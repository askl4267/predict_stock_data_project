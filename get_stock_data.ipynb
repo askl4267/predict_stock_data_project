{
 "cells": [
  {
   "cell_type": "code",
   "execution_count": null,
   "metadata": {},
   "outputs": [],
   "source": [
    "import requests\n",
    "import io\n",
    "import re\n",
    "import pandas as pd"
   ]
  },
  {
   "cell_type": "code",
   "execution_count": null,
   "metadata": {},
   "outputs": [],
   "source": [
    "cols = ['Id', 'Date', 'Open', 'High', 'Low', 'Close', 'Adj_Close', 'Volume']\n",
    "stock_data = pd.DataFrame(columns=cols)"
   ]
  },
  {
   "cell_type": "code",
   "execution_count": null,
   "metadata": {},
   "outputs": [],
   "source": [
    "code_list = pd.read_csv('stock_code_list.csv')\n",
    "code_list = code_list[code_list['市場名'] == '東証1部']['銘柄コード']"
   ]
  },
  {
   "cell_type": "code",
   "execution_count": null,
   "metadata": {},
   "outputs": [],
   "source": [
    "for code in code_list:\n",
    "    url = 'https://query1.finance.yahoo.com/v7/finance/download/{}.T?period1=1262304000&period2=1589241600&interval=1d&events=history'.format(code)\n",
    "    res = requests.get(url)\n",
    "    \n",
    "    if res.status_code != 200:\n",
    "        print('NotFound:', code)\n",
    "        \n",
    "    else:\n",
    "        stock = pd.read_csv(io.StringIO(res.text))\n",
    "        stock['Id'] = code\n",
    "        stock_data = pd.concat([stock_data, stock], ignore_index=True, sort=False, keys=cols)\n",
    "        print('OK:', code)"
   ]
  },
  {
   "cell_type": "code",
   "execution_count": null,
   "metadata": {},
   "outputs": [],
   "source": [
    "stock_data.to_csv('stock_data.csv')"
   ]
  },
  {
   "cell_type": "code",
   "execution_count": null,
   "metadata": {},
   "outputs": [],
   "source": []
  },
  {
   "cell_type": "code",
   "execution_count": null,
   "metadata": {},
   "outputs": [],
   "source": [
    "data = pd.read_csv('stock_data.csv')"
   ]
  },
  {
   "cell_type": "code",
   "execution_count": null,
   "metadata": {},
   "outputs": [],
   "source": [
    "data.head()"
   ]
  },
  {
   "cell_type": "code",
   "execution_count": null,
   "metadata": {},
   "outputs": [],
   "source": [
    "data['Date'] = pd.to_datetime(data['Date'])"
   ]
  },
  {
   "cell_type": "code",
   "execution_count": null,
   "metadata": {},
   "outputs": [],
   "source": [
    "data['year'] = data['Date'].dt.year"
   ]
  },
  {
   "cell_type": "code",
   "execution_count": null,
   "metadata": {},
   "outputs": [],
   "source": [
    "data['year'].unique()"
   ]
  },
  {
   "cell_type": "code",
   "execution_count": null,
   "metadata": {},
   "outputs": [],
   "source": [
    "data.shape"
   ]
  },
  {
   "cell_type": "code",
   "execution_count": null,
   "metadata": {},
   "outputs": [],
   "source": [
    "data.isnull().sum()"
   ]
  },
  {
   "cell_type": "code",
   "execution_count": null,
   "metadata": {},
   "outputs": [],
   "source": []
  },
  {
   "cell_type": "code",
   "execution_count": 4,
   "metadata": {},
   "outputs": [
    {
     "name": "stdout",
     "output_type": "stream",
     "text": [
      "OK: 4755\n",
      "OK: 9613\n"
     ]
    }
   ],
   "source": [
    "import requests\n",
    "import io\n",
    "import re\n",
    "import pandas as pd\n",
    "\n",
    "cols = ['Id', 'Date', 'Open', 'High', 'Low', 'Close', 'Adj Close', 'Volume']\n",
    "stock_data = pd.DataFrame(columns=cols)\n",
    "\n",
    "# 楽天(4755)、NTTデータ（9613）\n",
    "code_list = [4755, 9613]\n",
    "\n",
    "for code in code_list:\n",
    "    url = 'https://query1.finance.yahoo.com/v7/finance/download/{}.T?period1=1262304000&period2=1589241600&interval=1d&events=history'.format(code)\n",
    "    res = requests.get(url)\n",
    "    \n",
    "    if res.status_code != 200:\n",
    "        print('NotFound:', code)\n",
    "        \n",
    "    else:\n",
    "        stock = pd.read_csv(io.StringIO(res.text))\n",
    "        stock['Id'] = code\n",
    "        stock_data = pd.concat([stock_data, stock], ignore_index=True, sort=False, keys=cols)\n",
    "        print('OK:', code)\n",
    "        \n",
    "stock_data.to_csv('stock_data.csv')"
   ]
  }
 ],
 "metadata": {
  "kernelspec": {
   "display_name": "Python 3",
   "language": "python",
   "name": "python3"
  },
  "language_info": {
   "codemirror_mode": {
    "name": "ipython",
    "version": 3
   },
   "file_extension": ".py",
   "mimetype": "text/x-python",
   "name": "python",
   "nbconvert_exporter": "python",
   "pygments_lexer": "ipython3",
   "version": "3.7.4"
  }
 },
 "nbformat": 4,
 "nbformat_minor": 2
}
