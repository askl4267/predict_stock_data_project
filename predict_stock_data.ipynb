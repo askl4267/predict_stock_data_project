{
 "cells": [
  {
   "cell_type": "code",
   "execution_count": 1,
   "metadata": {
    "colab": {
     "base_uri": "https://localhost:8080/"
    },
    "executionInfo": {
     "elapsed": 23033,
     "status": "ok",
     "timestamp": 1605348370838,
     "user": {
      "displayName": "照屋雄大",
      "photoUrl": "",
      "userId": "10960088537317315210"
     },
     "user_tz": -540
    },
    "id": "auzvyKvTrzBW",
    "outputId": "70e02fb2-f57b-462d-9e5c-5cd00114b2bf"
   },
   "outputs": [
    {
     "name": "stdout",
     "output_type": "stream",
     "text": [
      "Collecting optuna\n",
      "\u001b[?25l  Downloading https://files.pythonhosted.org/packages/87/10/06b58f4120f26b603d905a594650440ea1fd74476b8b360dbf01e111469b/optuna-2.3.0.tar.gz (258kB)\n",
      "\r",
      "\u001b[K     |█▎                              | 10kB 14.0MB/s eta 0:00:01\r",
      "\u001b[K     |██▌                             | 20kB 18.9MB/s eta 0:00:01\r",
      "\u001b[K     |███▉                            | 30kB 22.4MB/s eta 0:00:01\r",
      "\u001b[K     |█████                           | 40kB 9.7MB/s eta 0:00:01\r",
      "\u001b[K     |██████▍                         | 51kB 9.4MB/s eta 0:00:01\r",
      "\u001b[K     |███████▋                        | 61kB 10.6MB/s eta 0:00:01\r",
      "\u001b[K     |████████▉                       | 71kB 9.7MB/s eta 0:00:01\r",
      "\u001b[K     |██████████▏                     | 81kB 9.4MB/s eta 0:00:01\r",
      "\u001b[K     |███████████▍                    | 92kB 8.5MB/s eta 0:00:01\r",
      "\u001b[K     |████████████▊                   | 102kB 8.6MB/s eta 0:00:01\r",
      "\u001b[K     |██████████████                  | 112kB 8.6MB/s eta 0:00:01\r",
      "\u001b[K     |███████████████▏                | 122kB 8.6MB/s eta 0:00:01\r",
      "\u001b[K     |████████████████▌               | 133kB 8.6MB/s eta 0:00:01\r",
      "\u001b[K     |█████████████████▊              | 143kB 8.6MB/s eta 0:00:01\r",
      "\u001b[K     |███████████████████             | 153kB 8.6MB/s eta 0:00:01\r",
      "\u001b[K     |████████████████████▎           | 163kB 8.6MB/s eta 0:00:01\r",
      "\u001b[K     |█████████████████████▌          | 174kB 8.6MB/s eta 0:00:01\r",
      "\u001b[K     |██████████████████████▉         | 184kB 8.6MB/s eta 0:00:01\r",
      "\u001b[K     |████████████████████████        | 194kB 8.6MB/s eta 0:00:01\r",
      "\u001b[K     |█████████████████████████▍      | 204kB 8.6MB/s eta 0:00:01\r",
      "\u001b[K     |██████████████████████████▋     | 215kB 8.6MB/s eta 0:00:01\r",
      "\u001b[K     |███████████████████████████▉    | 225kB 8.6MB/s eta 0:00:01\r",
      "\u001b[K     |█████████████████████████████▏  | 235kB 8.6MB/s eta 0:00:01\r",
      "\u001b[K     |██████████████████████████████▍ | 245kB 8.6MB/s eta 0:00:01\r",
      "\u001b[K     |███████████████████████████████▊| 256kB 8.6MB/s eta 0:00:01\r",
      "\u001b[K     |████████████████████████████████| 266kB 8.6MB/s \n",
      "\u001b[?25h  Installing build dependencies ... \u001b[?25l\u001b[?25hdone\n",
      "  Getting requirements to build wheel ... \u001b[?25l\u001b[?25hdone\n",
      "    Preparing wheel metadata ... \u001b[?25l\u001b[?25hdone\n",
      "Collecting colorlog\n",
      "  Downloading https://files.pythonhosted.org/packages/4e/c8/c16d30bbed11a1722060014c246d124582d1f781b26f5859d8dacc3e08e1/colorlog-4.6.2-py2.py3-none-any.whl\n",
      "Requirement already satisfied: packaging>=20.0 in /usr/local/lib/python3.6/dist-packages (from optuna) (20.4)\n",
      "Requirement already satisfied: numpy in /usr/local/lib/python3.6/dist-packages (from optuna) (1.18.5)\n",
      "Requirement already satisfied: joblib in /usr/local/lib/python3.6/dist-packages (from optuna) (0.17.0)\n",
      "Collecting cmaes>=0.6.0\n",
      "  Downloading https://files.pythonhosted.org/packages/8d/3c/06c76ec8b54b9b1fad7f35e903fd25010fe3e0d41bd94cea5e6f12e0d651/cmaes-0.7.0-py3-none-any.whl\n",
      "Requirement already satisfied: scipy!=1.4.0 in /usr/local/lib/python3.6/dist-packages (from optuna) (1.4.1)\n",
      "Collecting cliff\n",
      "\u001b[?25l  Downloading https://files.pythonhosted.org/packages/8a/61/5b64d73b01c1218f55c894b5ec0fb89b32c6960b7f7b3ad9f5ac0c373b9d/cliff-3.5.0-py3-none-any.whl (81kB)\n",
      "\u001b[K     |████████████████████████████████| 81kB 7.0MB/s \n",
      "\u001b[?25hCollecting alembic\n",
      "\u001b[?25l  Downloading https://files.pythonhosted.org/packages/12/aa/c261dfd7f4ba6ce4701846a2689a46e2a172e012171de4378fc2926e3bf0/alembic-1.4.3-py2.py3-none-any.whl (159kB)\n",
      "\u001b[K     |████████████████████████████████| 163kB 16.3MB/s \n",
      "\u001b[?25hRequirement already satisfied: sqlalchemy>=1.1.0 in /usr/local/lib/python3.6/dist-packages (from optuna) (1.3.20)\n",
      "Requirement already satisfied: tqdm in /usr/local/lib/python3.6/dist-packages (from optuna) (4.41.1)\n",
      "Requirement already satisfied: pyparsing>=2.0.2 in /usr/local/lib/python3.6/dist-packages (from packaging>=20.0->optuna) (2.4.7)\n",
      "Requirement already satisfied: six in /usr/local/lib/python3.6/dist-packages (from packaging>=20.0->optuna) (1.15.0)\n",
      "Collecting pbr!=2.1.0,>=2.0.0\n",
      "\u001b[?25l  Downloading https://files.pythonhosted.org/packages/fb/48/69046506f6ac61c1eaa9a0d42d22d54673b69e176d30ca98e3f61513e980/pbr-5.5.1-py2.py3-none-any.whl (106kB)\n",
      "\u001b[K     |████████████████████████████████| 112kB 17.2MB/s \n",
      "\u001b[?25hCollecting PrettyTable<0.8,>=0.7.2\n",
      "  Downloading https://files.pythonhosted.org/packages/ef/30/4b0746848746ed5941f052479e7c23d2b56d174b82f4fd34a25e389831f5/prettytable-0.7.2.tar.bz2\n",
      "Collecting stevedore>=2.0.1\n",
      "\u001b[?25l  Downloading https://files.pythonhosted.org/packages/b8/a1/004f04ba411a8002b02aadb089fd6868116c12ddc9f6d576175e89d07587/stevedore-3.2.2-py3-none-any.whl (42kB)\n",
      "\u001b[K     |████████████████████████████████| 51kB 6.4MB/s \n",
      "\u001b[?25hRequirement already satisfied: PyYAML>=3.12 in /usr/local/lib/python3.6/dist-packages (from cliff->optuna) (3.13)\n",
      "Collecting cmd2!=0.8.3,>=0.8.0\n",
      "\u001b[?25l  Downloading https://files.pythonhosted.org/packages/27/54/af6e2703f064485d717cb311d3f9440cd302a823ba6d80a020b59eae166d/cmd2-1.4.0-py3-none-any.whl (133kB)\n",
      "\u001b[K     |████████████████████████████████| 133kB 17.1MB/s \n",
      "\u001b[?25hRequirement already satisfied: python-dateutil in /usr/local/lib/python3.6/dist-packages (from alembic->optuna) (2.8.1)\n",
      "Collecting Mako\n",
      "\u001b[?25l  Downloading https://files.pythonhosted.org/packages/a6/37/0e706200d22172eb8fa17d68a7ae22dec7631a0a92266634fb518a88a5b2/Mako-1.1.3-py2.py3-none-any.whl (75kB)\n",
      "\u001b[K     |████████████████████████████████| 81kB 8.2MB/s \n",
      "\u001b[?25hCollecting python-editor>=0.3\n",
      "  Downloading https://files.pythonhosted.org/packages/c6/d3/201fc3abe391bbae6606e6f1d598c15d367033332bd54352b12f35513717/python_editor-1.0.4-py3-none-any.whl\n",
      "Requirement already satisfied: importlib-metadata>=1.7.0; python_version < \"3.8\" in /usr/local/lib/python3.6/dist-packages (from stevedore>=2.0.1->cliff->optuna) (2.0.0)\n",
      "Requirement already satisfied: wcwidth>=0.1.7 in /usr/local/lib/python3.6/dist-packages (from cmd2!=0.8.3,>=0.8.0->cliff->optuna) (0.2.5)\n",
      "Collecting pyperclip>=1.6\n",
      "  Downloading https://files.pythonhosted.org/packages/6f/4c/0b1d507ad7e8bc31d690d04b4f475e74c2002d060f7994ce8c09612df707/pyperclip-1.8.1.tar.gz\n",
      "Collecting colorama>=0.3.7\n",
      "  Downloading https://files.pythonhosted.org/packages/44/98/5b86278fbbf250d239ae0ecb724f8572af1c91f4a11edf4d36a206189440/colorama-0.4.4-py2.py3-none-any.whl\n",
      "Requirement already satisfied: attrs>=16.3.0 in /usr/local/lib/python3.6/dist-packages (from cmd2!=0.8.3,>=0.8.0->cliff->optuna) (20.2.0)\n",
      "Requirement already satisfied: MarkupSafe>=0.9.2 in /usr/local/lib/python3.6/dist-packages (from Mako->alembic->optuna) (1.1.1)\n",
      "Requirement already satisfied: zipp>=0.5 in /usr/local/lib/python3.6/dist-packages (from importlib-metadata>=1.7.0; python_version < \"3.8\"->stevedore>=2.0.1->cliff->optuna) (3.4.0)\n",
      "Building wheels for collected packages: optuna\n",
      "  Building wheel for optuna (PEP 517) ... \u001b[?25l\u001b[?25hdone\n",
      "  Created wheel for optuna: filename=optuna-2.3.0-cp36-none-any.whl size=359761 sha256=92978d8f1bc477640077cabe8823c3a535e45a173d2fda6a66d19d03f811d72a\n",
      "  Stored in directory: /root/.cache/pip/wheels/fa/91/19/64b0ec6b964f89c0695a9dc6db6f851d0b54c5381a5c9cadfb\n",
      "Successfully built optuna\n",
      "Building wheels for collected packages: PrettyTable, pyperclip\n",
      "  Building wheel for PrettyTable (setup.py) ... \u001b[?25l\u001b[?25hdone\n",
      "  Created wheel for PrettyTable: filename=prettytable-0.7.2-cp36-none-any.whl size=13700 sha256=509df35871854fefb7867f33e66eb844e2fe0a04eda91bdcdbab88cf14beebce\n",
      "  Stored in directory: /root/.cache/pip/wheels/80/34/1c/3967380d9676d162cb59513bd9dc862d0584e045a162095606\n",
      "  Building wheel for pyperclip (setup.py) ... \u001b[?25l\u001b[?25hdone\n",
      "  Created wheel for pyperclip: filename=pyperclip-1.8.1-cp36-none-any.whl size=11119 sha256=37b572c74b8ca4edfb85cc5e84b8f443e23aa859d932f5ed64474f696047a82f\n",
      "  Stored in directory: /root/.cache/pip/wheels/44/10/3a/c830e9bb3db2c93274ea1f213a41fabde0d8cf3794251fad0c\n",
      "Successfully built PrettyTable pyperclip\n",
      "Installing collected packages: colorlog, cmaes, pbr, PrettyTable, stevedore, pyperclip, colorama, cmd2, cliff, Mako, python-editor, alembic, optuna\n",
      "  Found existing installation: prettytable 1.0.1\n",
      "    Uninstalling prettytable-1.0.1:\n",
      "      Successfully uninstalled prettytable-1.0.1\n",
      "Successfully installed Mako-1.1.3 PrettyTable-0.7.2 alembic-1.4.3 cliff-3.5.0 cmaes-0.7.0 cmd2-1.4.0 colorama-0.4.4 colorlog-4.6.2 optuna-2.3.0 pbr-5.5.1 pyperclip-1.8.1 python-editor-1.0.4 stevedore-3.2.2\n"
     ]
    }
   ],
   "source": [
    "### Google Colaboratory only ###\n",
    "! pip install optuna"
   ]
  },
  {
   "cell_type": "code",
   "execution_count": 2,
   "metadata": {
    "colab": {
     "base_uri": "https://localhost:8080/"
    },
    "executionInfo": {
     "elapsed": 5255,
     "status": "ok",
     "timestamp": 1605348376741,
     "user": {
      "displayName": "照屋雄大",
      "photoUrl": "",
      "userId": "10960088537317315210"
     },
     "user_tz": -540
    },
    "id": "qXQZfDRQrDBO",
    "outputId": "586a17fb-3f9c-4cf1-d5f5-68112f46dd86"
   },
   "outputs": [
    {
     "name": "stderr",
     "output_type": "stream",
     "text": [
      "/usr/local/lib/python3.6/dist-packages/statsmodels/tools/_testing.py:19: FutureWarning:\n",
      "\n",
      "pandas.util.testing is deprecated. Use the functions in the public API at pandas.testing instead.\n",
      "\n"
     ]
    }
   ],
   "source": [
    "import pandas as pd\n",
    "import numpy as np\n",
    "import seaborn as sns\n",
    "import copy\n",
    "import lightgbm as lgb\n",
    "import sklearn.model_selection\n",
    "import optuna\n",
    "import statsmodels.api as sm\n",
    "\n",
    "from scipy.stats import rankdata\n",
    "from sklearn.metrics import confusion_matrix\n",
    "from sklearn.metrics import precision_score\n",
    "from sklearn.metrics import classification_report\n",
    "from sklearn.preprocessing import LabelEncoder\n",
    "from sklearn.model_selection import train_test_split\n",
    "from optuna.integration import lightgbm as lgb_o\n",
    "from sklearn.ensemble import RandomForestClassifier\n",
    "from sklearn.linear_model import SGDClassifier\n",
    "from sklearn.preprocessing import StandardScaler\n",
    "from sklearn.pipeline import make_pipeline\n",
    "\n",
    "from tensorflow.keras.models import Sequential\n",
    "from tensorflow.keras.layers import Dense, Activation\n",
    "from tensorflow.keras.layers import LSTM\n",
    "from tensorflow.keras.optimizers import Adam\n",
    "from tensorflow.keras.callbacks import EarlyStopping\n",
    "\n",
    "import seaborn as sns\n",
    "import matplotlib.pyplot as plt\n",
    "\n",
    "pd.set_option('display.max_rows', None)"
   ]
  },
  {
   "cell_type": "code",
   "execution_count": 3,
   "metadata": {
    "colab": {
     "base_uri": "https://localhost:8080/"
    },
    "executionInfo": {
     "elapsed": 26737,
     "status": "ok",
     "timestamp": 1605348403492,
     "user": {
      "displayName": "照屋雄大",
      "photoUrl": "",
      "userId": "10960088537317315210"
     },
     "user_tz": -540
    },
    "id": "nkY4Wt8Erp1N",
    "outputId": "474d4e09-0b41-4704-a704-1c8ff8196755"
   },
   "outputs": [
    {
     "name": "stdout",
     "output_type": "stream",
     "text": [
      "Mounted at /content/drive\n"
     ]
    }
   ],
   "source": [
    "### Google Colaboratory only ###\n",
    "from google.colab import drive\n",
    "drive.mount('/content/drive')"
   ]
  },
  {
   "cell_type": "code",
   "execution_count": 33,
   "metadata": {
    "executionInfo": {
     "elapsed": 6601,
     "status": "ok",
     "timestamp": 1605351476090,
     "user": {
      "displayName": "照屋雄大",
      "photoUrl": "",
      "userId": "10960088537317315210"
     },
     "user_tz": -540
    },
    "id": "mzcbEwjurDBT"
   },
   "outputs": [],
   "source": [
    "### Google Colaboratory only ###\n",
    "stock_data = pd.read_csv('/content/drive/My Drive/stock_data.csv')"
   ]
  },
  {
   "cell_type": "code",
   "execution_count": null,
   "metadata": {},
   "outputs": [],
   "source": [
    "stock_data = pd.read_csv('stock_data.csv')"
   ]
  },
  {
   "cell_type": "code",
   "execution_count": 34,
   "metadata": {
    "executionInfo": {
     "elapsed": 6116,
     "status": "ok",
     "timestamp": 1605351476091,
     "user": {
      "displayName": "照屋雄大",
      "photoUrl": "",
      "userId": "10960088537317315210"
     },
     "user_tz": -540
    },
    "id": "v0GGya58rDBW"
   },
   "outputs": [],
   "source": [
    "stock_data = stock_data.drop('Unnamed: 0', axis=1)"
   ]
  },
  {
   "cell_type": "markdown",
   "metadata": {
    "id": "B1RwQM_drDBZ"
   },
   "source": [
    "# データの作成"
   ]
  },
  {
   "cell_type": "code",
   "execution_count": 35,
   "metadata": {
    "executionInfo": {
     "elapsed": 7281,
     "status": "ok",
     "timestamp": 1605351477922,
     "user": {
      "displayName": "照屋雄大",
      "photoUrl": "",
      "userId": "10960088537317315210"
     },
     "user_tz": -540
    },
    "id": "e7rxBhETrDBa"
   },
   "outputs": [],
   "source": [
    "stock_data['Date'] = pd.to_datetime(stock_data['Date'])\n",
    "stock_data['year'] = stock_data['Date'].dt.year\n",
    "stock_data['month'] = stock_data['Date'].dt.month"
   ]
  },
  {
   "cell_type": "code",
   "execution_count": 36,
   "metadata": {
    "executionInfo": {
     "elapsed": 6943,
     "status": "ok",
     "timestamp": 1605351477924,
     "user": {
      "displayName": "照屋雄大",
      "photoUrl": "",
      "userId": "10960088537317315210"
     },
     "user_tz": -540
    },
    "id": "GgCy_qLDrDBc"
   },
   "outputs": [],
   "source": [
    "id_list = [9613]\n",
    "stock_data_9613 = stock_data[stock_data['Id'] == id_list[0]].reset_index(drop=True)"
   ]
  },
  {
   "cell_type": "code",
   "execution_count": 37,
   "metadata": {
    "executionInfo": {
     "elapsed": 6955,
     "status": "ok",
     "timestamp": 1605351478298,
     "user": {
      "displayName": "照屋雄大",
      "photoUrl": "",
      "userId": "10960088537317315210"
     },
     "user_tz": -540
    },
    "id": "5PcvkznsrDBe"
   },
   "outputs": [],
   "source": [
    "# logリターン\n",
    "# 確認済み\n",
    "def make_log_return(_stock_data_, return_days=[2, 5, 25, 50, 75]):\n",
    "  for num in return_days:\n",
    "    log_return = [None for i in range(1, num)]\n",
    "    for i in range(len(_stock_data_) - (num - 1)):\n",
    "      log_return.append(np.log(_stock_data_['Close'][i + (num - 1)] / _stock_data_['Close'][i]))\n",
    "    _stock_data_['log_return_' + str(num)] = log_return\n",
    "    \n",
    "make_log_return(stock_data_9613)"
   ]
  },
  {
   "cell_type": "code",
   "execution_count": 38,
   "metadata": {
    "executionInfo": {
     "elapsed": 9059,
     "status": "ok",
     "timestamp": 1605351480777,
     "user": {
      "displayName": "照屋雄大",
      "photoUrl": "",
      "userId": "10960088537317315210"
     },
     "user_tz": -540
    },
    "id": "zrJoY4j5rDBh"
   },
   "outputs": [],
   "source": [
    "# DMI\n",
    "# 確認済み\n",
    "def make_dmi(_stock_data_, di_days=14, adx_days=14):\n",
    "    plus_dm = [None]\n",
    "    minus_dm = [None]\n",
    "    tr_list = [None]\n",
    "    for i in range(1, len(_stock_data_)):\n",
    "        dm_plus = _stock_data_['High'][i] - _stock_data_['High'][i - 1]\n",
    "        dm_minus = _stock_data_['Low'][i - 1] - _stock_data_['Low'][i]\n",
    "\n",
    "        dm_plus = dm_plus if dm_plus > 0 else 0\n",
    "        dm_minus = dm_minus if dm_minus > 0 else 0\n",
    "\n",
    "        n = dm_plus - dm_minus\n",
    "        if n > 0:\n",
    "            dm_minus = 0\n",
    "        elif n < 0:\n",
    "            dm_plus = 0\n",
    "        else:\n",
    "            dm_plus = 0\n",
    "            dm_minus = 0\n",
    "\n",
    "        plus_dm.append(dm_plus)\n",
    "        minus_dm.append(dm_minus)\n",
    "\n",
    "        n_1 = abs(_stock_data_['High'][i] - _stock_data_['Low'][i])\n",
    "        n_2 = abs(_stock_data_['High'][i] - _stock_data_['Close'][i - 1])\n",
    "        n_3 = abs(_stock_data_['Close'][i - 1] - _stock_data_['Low'][i])\n",
    "\n",
    "        tr = max(n_1, n_2, n_3)\n",
    "        tr_list.append(tr)\n",
    "\n",
    "    _stock_data_['tr'] = tr_list\n",
    "    _stock_data_['plus_dm'] = plus_dm\n",
    "    _stock_data_['minus_dm'] = minus_dm\n",
    "    \n",
    "    plus_di_list = [None for i in range(1, di_days)]\n",
    "    minus_di_list = [None for i in range(1, di_days)]\n",
    "    dx_list = [None for i in range(1, di_days)]\n",
    "    for i in range(len(_stock_data_) - di_days + 1):\n",
    "        plus_di = (np.sum(_stock_data_.loc[1 + i : di_days + i, 'plus_dm']) \\\n",
    "                    / np.sum(_stock_data_.loc[1 + i : di_days + i, 'tr'])) * 100\n",
    "\n",
    "        minus_di = (np.sum(_stock_data_.loc[1 + i : di_days + i, 'minus_dm']) \\\n",
    "                    / np.sum(_stock_data_.loc[1 + i : di_days + i, 'tr'])) * 100\n",
    "\n",
    "        dx = abs(plus_di - minus_di) / (plus_di + minus_di) * 100\n",
    "\n",
    "        plus_di_list.append(plus_di)\n",
    "        minus_di_list.append(minus_di)\n",
    "        dx_list.append(dx)\n",
    "\n",
    "    _stock_data_['plus_di'] = plus_di_list\n",
    "    _stock_data_['minus_di'] = minus_di_list\n",
    "    _stock_data_['dx'] = dx_list\n",
    "\n",
    "    adx_list = [None for i in range(1, (di_days + adx_days) - 1)]\n",
    "    for i in range(len(_stock_data_) - (di_days + adx_days) + 2):\n",
    "        adx = np.mean(_stock_data_.loc[di_days - 1 + i : (di_days + adx_days - 2) + i , 'dx'])\n",
    "        adx_list.append(adx)\n",
    "    _stock_data_['adx'] = adx_list\n",
    "    \n",
    "    _stock_data_.drop(columns=['tr', 'plus_dm', 'minus_dm', 'dx'], inplace=True)\n",
    "    \n",
    "make_dmi(stock_data_9613)"
   ]
  },
  {
   "cell_type": "code",
   "execution_count": 39,
   "metadata": {
    "executionInfo": {
     "elapsed": 12754,
     "status": "ok",
     "timestamp": 1605351484817,
     "user": {
      "displayName": "照屋雄大",
      "photoUrl": "",
      "userId": "10960088537317315210"
     },
     "user_tz": -540
    },
    "id": "kqbFQT92rDBj"
   },
   "outputs": [],
   "source": [
    "# n日移動平均線\n",
    "# 確認済み\n",
    "def make_simple_moving_average(_stock_data_, average_days=[5, 7, 10, 14, 18, 21, 25, 75]):\n",
    "    for num in average_days:\n",
    "        average_list = [None for i in range(1, num)]\n",
    "        for i in range(len(_stock_data_) - num + 1):\n",
    "            average_list.append(np.mean(_stock_data_.loc[i : num - 1 + i, 'Close']))\n",
    "        _stock_data_['moving_average_' + str(num)] = average_list\n",
    "\n",
    "    sma_golden_cross_25_list = [None for i in range(25)]\n",
    "    sma_dead_cross_25_list = [None for i in range(25)]\n",
    "    for i in range(len(_stock_data_) - 25):\n",
    "      if _stock_data_['moving_average_5'][24 + i] < _stock_data_['moving_average_25'][24 + i]\\\n",
    "      and _stock_data_['moving_average_5'][25 + i] > _stock_data_['moving_average_25'][25 + i]:\n",
    "        sma_golden_cross_25_list.append(1)\n",
    "      else:\n",
    "        sma_golden_cross_25_list.append(0)\n",
    "\n",
    "      if _stock_data_['moving_average_5'][24 + i] > _stock_data_['moving_average_25'][24 + i]\\\n",
    "      and _stock_data_['moving_average_5'][25 + i] < _stock_data_['moving_average_25'][25 + i]:\n",
    "        sma_dead_cross_25_list.append(1)\n",
    "      else:\n",
    "        sma_dead_cross_25_list.append(0)\n",
    "\n",
    "    _stock_data_['sma_golden_cross_25'] = sma_golden_cross_25_list\n",
    "    _stock_data_['sma_dead_cross_25'] = sma_dead_cross_25_list\n",
    "\n",
    "make_simple_moving_average(stock_data_9613)"
   ]
  },
  {
   "cell_type": "code",
   "execution_count": 40,
   "metadata": {
    "executionInfo": {
     "elapsed": 12376,
     "status": "ok",
     "timestamp": 1605351484818,
     "user": {
      "displayName": "照屋雄大",
      "photoUrl": "",
      "userId": "10960088537317315210"
     },
     "user_tz": -540
    },
    "id": "AYiQ1UocrDBm"
   },
   "outputs": [],
   "source": [
    "# 株価平均移動乖離率\n",
    "# 確認済み\n",
    "def make_moving_average_estrangement_rate(_stock_data_, average_days=[7, 14, 21]):\n",
    "    for num in average_days:\n",
    "        maer_list = []\n",
    "        for i in range(len(_stock_data_)):\n",
    "            maer = (_stock_data_['Close'][i] - _stock_data_['moving_average_' + str(num)][i])\\\n",
    "                                                / _stock_data_['moving_average_' + str(num)][i]\n",
    "            maer_list.append(maer * 100)\n",
    "        _stock_data_['maer_' + str(num)] = maer_list\n",
    "\n",
    "make_moving_average_estrangement_rate(stock_data_9613)"
   ]
  },
  {
   "cell_type": "code",
   "execution_count": 41,
   "metadata": {
    "executionInfo": {
     "elapsed": 13543,
     "status": "ok",
     "timestamp": 1605351486350,
     "user": {
      "displayName": "照屋雄大",
      "photoUrl": "",
      "userId": "10960088537317315210"
     },
     "user_tz": -540
    },
    "id": "2Rh0tUkkrDBo"
   },
   "outputs": [],
   "source": [
    "# RSI\n",
    "# 確認済み\n",
    "def make_rsi(_stock_data_, rsi_days=[14, 21]):\n",
    "    for num in rsi_days:\n",
    "        db_list = [None]\n",
    "        for i in range(1, len(_stock_data_)):\n",
    "            db = _stock_data_['Close'][i] - _stock_data_['Close'][i - 1]\n",
    "            db_list.append(db)\n",
    "        _stock_data_['db'] = db_list\n",
    "            \n",
    "        rsi_list = [None for i in range(num)]\n",
    "        rsi_overbought = [None for i in range(num)]\n",
    "        rsi_oversold = [None for i in range(num)]\n",
    "        for i in range(len(_stock_data_) - num):\n",
    "            positive = np.sum([x for x in _stock_data_.loc[i + 1 : i + num, 'db'] if x > 0])\n",
    "            negative = abs(np.sum([x for x in _stock_data_.loc[i + 1 : i + num, 'db'] if x < 0]))\n",
    "            rsi = positive / (positive + negative) * 100\n",
    "            rsi_list.append(rsi)\n",
    "            rsi_overbought.append(1 if rsi >= 70 else 0)\n",
    "            rsi_oversold.append(1 if rsi <= 30 else 0)\n",
    "        _stock_data_['rsi_' + str(num)] = rsi_list\n",
    "        _stock_data_['rsi_overbought_' + str(num)] = rsi_overbought\n",
    "        _stock_data_['rsi_oversold_' + str(num)] = rsi_oversold\n",
    "        _stock_data_.drop(columns=['db'], inplace=True)\n",
    "make_rsi(stock_data_9613, rsi_days=[7, 14, 21])"
   ]
  },
  {
   "cell_type": "code",
   "execution_count": 42,
   "metadata": {
    "executionInfo": {
     "elapsed": 14913,
     "status": "ok",
     "timestamp": 1605351488104,
     "user": {
      "displayName": "照屋雄大",
      "photoUrl": "",
      "userId": "10960088537317315210"
     },
     "user_tz": -540
    },
    "id": "oojjerLArDBq"
   },
   "outputs": [],
   "source": [
    "# RCI\n",
    "# 確認済み\n",
    "def make_rci(_stock_data_, rci_days = [5]):\n",
    "    for num in rci_days:\n",
    "        rci_list = [None for i in range(1, num)]\n",
    "        rci_overbought = [None for i in range(1, num)]\n",
    "        rci_oversold = [None for i in range(1, num)]\n",
    "        for i in range(len(_stock_data_) - num + 1):\n",
    "            rci_add = 0\n",
    "            for day, rank in enumerate(rankdata(-_stock_data_.loc[i : i + num - 1, 'Close'])):\n",
    "                rci_add += (day + 1 - rank) ** 2\n",
    "            rci = (1 - (6 * rci_add / num / (num ** 2 - 1))) * 100\n",
    "            rci_list.append(rci)\n",
    "            rci_overbought.append(1 if rci >= 80 else 0)\n",
    "            rci_oversold.append(1 if rci <= -80 else 0)\n",
    "        _stock_data_['rci_' + str(num)] = rci_list\n",
    "        _stock_data_['rci_overbought_' + str(num)] = rci_overbought\n",
    "        _stock_data_['rci_oversold_' + str(num)] = rci_oversold\n",
    "\n",
    "make_rci(stock_data_9613, rci_days=[5, 20])"
   ]
  },
  {
   "cell_type": "code",
   "execution_count": 43,
   "metadata": {
    "executionInfo": {
     "elapsed": 18278,
     "status": "ok",
     "timestamp": 1605351491842,
     "user": {
      "displayName": "照屋雄大",
      "photoUrl": "",
      "userId": "10960088537317315210"
     },
     "user_tz": -540
    },
    "id": "-aI9Z9evrDBr"
   },
   "outputs": [],
   "source": [
    "# 強弱レシオ\n",
    "# 確認済み\n",
    "\n",
    "def make_intensity_ratio(_stock_data_, intensity_days=[21]):\n",
    "    for num in intensity_days:\n",
    "        _stock_data_['high_open'] = _stock_data_['High'] - _stock_data_['Open']\n",
    "        _stock_data_['open_low'] = _stock_data_['Open'] - _stock_data_['Low']\n",
    "\n",
    "        a_ratio = [None for i in range(1, num)]\n",
    "        for i in range(len(_stock_data_) - num + 1):\n",
    "            high_open_sum = np.sum(_stock_data_.loc[i : num + i - 1, 'high_open'])\n",
    "            open_low_sum = np.sum(_stock_data_.loc[i : num + i - 1, 'open_low'])\n",
    "            a_ratio.append(high_open_sum / open_low_sum * 100)\n",
    "        _stock_data_['a_ratio'] = a_ratio\n",
    "\n",
    "        high_close = [None]\n",
    "        close_low = [None]\n",
    "        high_middle = [None]\n",
    "        middle_low = [None]\n",
    "        for i in range(1, len(_stock_data_)):\n",
    "            high_close.append(_stock_data_['High'][i] - _stock_data_['Close'][i - 1])\n",
    "            close_low.append(_stock_data_['Close'][i - 1] - _stock_data_['Low'][i])\n",
    "            high_middle.append(_stock_data_['High'][i] \\\n",
    "                               - (_stock_data_['High'][i - 1] + _stock_data_['Low'][i - 1]) / 2 \\\n",
    "                               - _stock_data_['Low'][i - 1])\n",
    "            middle_low.append((_stock_data_['High'][i - 1] + _stock_data_['Low'][i - 1]) / 2 \\\n",
    "                              + _stock_data_['Low'][i - 1]\n",
    "                              - _stock_data_['Low'][i])\n",
    "\n",
    "        _stock_data_['high_close'] = high_close\n",
    "        _stock_data_['close_low'] = close_low\n",
    "        _stock_data_['high_middle'] = high_middle\n",
    "        _stock_data_['middle_low'] = middle_low\n",
    "\n",
    "        b_ratio = [None for i in range(num)]\n",
    "        c_ratio = [None for i in range(num)]\n",
    "        for i in range(1, len(_stock_data_) - num + 1):\n",
    "            high_close_sum = np.sum(_stock_data_.loc[i : num + i - 1, 'high_close'])\n",
    "            close_low_sum = np.sum(_stock_data_.loc[i : num + i - 1, 'close_low'])\n",
    "            high_middle_sum = np.sum(_stock_data_.loc[i : num + i - 1, 'high_middle'])\n",
    "            middle_low_sum = np.sum(_stock_data_.loc[i : num + i - 1, 'middle_low'])\n",
    "\n",
    "            b_ratio.append(high_close_sum / close_low_sum * 100)\n",
    "            c_ratio.append(high_middle_sum / middle_low_sum * 100)\n",
    "        _stock_data_['b_ratio'] = b_ratio\n",
    "        _stock_data_['c_ratio'] = c_ratio\n",
    "        \n",
    "        _stock_data_.drop(columns=['high_open', 'open_low', 'high_close',\n",
    "                                   'close_low', 'high_middle', 'middle_low'], inplace=True)\n",
    "make_intensity_ratio(stock_data_9613)"
   ]
  },
  {
   "cell_type": "code",
   "execution_count": 44,
   "metadata": {
    "executionInfo": {
     "elapsed": 19320,
     "status": "ok",
     "timestamp": 1605351493326,
     "user": {
      "displayName": "照屋雄大",
      "photoUrl": "",
      "userId": "10960088537317315210"
     },
     "user_tz": -540
    },
    "id": "1ZFiMPw5rDBu"
   },
   "outputs": [],
   "source": [
    "# ストキャスティクス\n",
    "# 確認済み\n",
    "def make_stochastic_oscillator(_stock_data_, fast_days=14, m=7, l=7):\n",
    "    fast_K_list = [None for i in range(1, fast_days)]\n",
    "    close_low_list = [None for i in range(1, fast_days)]\n",
    "    high_low_list = [None for i in range(1, fast_days)]\n",
    "    slow_K_list = [None for i in range(2, fast_days + m)]\n",
    "    slow_D_list = [None for i in range(3, fast_days + m + l)]\n",
    "    for i in range(len(_stock_data_) - fast_days + 1):\n",
    "        recent_close = _stock_data_['Close'][fast_days + i - 1]\n",
    "        low_fast = min(_stock_data_.loc[i : fast_days + i - 1, 'Low'])\n",
    "        high_fast = max(_stock_data_.loc[i : fast_days + i - 1, 'High'])\n",
    "        \n",
    "        close_low = recent_close - low_fast\n",
    "        high_low = high_fast - low_fast\n",
    "        fast_K = close_low / high_low * 100\n",
    "        \n",
    "        fast_K_list.append(fast_K)\n",
    "        close_low_list.append(close_low)\n",
    "        high_low_list.append(high_low)\n",
    "        \n",
    "    _stock_data_['fast_K'] = fast_K_list\n",
    "    _stock_data_['close_low'] = close_low_list\n",
    "    _stock_data_['high_low'] = high_low_list\n",
    "    \n",
    "    for i in range(len(_stock_data_) - fast_days - m + 2):\n",
    "        slow_K = np.sum(_stock_data_.loc[fast_days + i - 1 : fast_days + m + i - 2, 'close_low'])\\\n",
    "                / np.sum(_stock_data_.loc[fast_days + i - 1 : fast_days + m + i - 2, 'high_low']) * 100\n",
    "        slow_K_list.append(slow_K)\n",
    "    _stock_data_['slow_K'] = slow_K_list\n",
    "        \n",
    "    for i in range(len(_stock_data_) - fast_days - m - l + 3):\n",
    "        slow_D_list.append(np.mean(_stock_data_.loc[fast_days + m + i - 2 : fast_days + m + l + i - 3, 'slow_K']))\n",
    "    _stock_data_['slow_D'] = slow_D_list\n",
    "    \n",
    "    _stock_data_.drop(columns=['close_low', 'high_low'], inplace=True)\n",
    "make_stochastic_oscillator(stock_data_9613)"
   ]
  },
  {
   "cell_type": "markdown",
   "metadata": {
    "id": "bVThZfp2rDBv"
   },
   "source": [
    "# [目的変数] 基準日から21日以内に上がるか（下がるか）\n",
    "\n",
    "trend_flag = []\n",
    "\n",
    "for i in range(len(stock_data_9613) - date_range):\n",
    "    trend = []\n",
    "    for n in range(21):\n",
    "        trend.append((stock_data_9613['Close'][n + i + 1] - stock_data_9613['Close'][i]) \\\n",
    "                                                       / stock_data_9613['Close'][i])\n",
    "        \n",
    "    flag = 0\n",
    "    for num in trend:\n",
    "        if abs(num) >= roc and num > 0:\n",
    "            flag = 1\n",
    "            break\n",
    "        elif abs(num) >= roc and num < 0:\n",
    "            flag = 2\n",
    "            break\n",
    "    trend_flag.append(flag)\n",
    "    \n",
    "[trend_flag.append(None) for i in range(date_range)]\n",
    "stock_data_9613['trend_flag'] = trend_flag"
   ]
  },
  {
   "cell_type": "code",
   "execution_count": 45,
   "metadata": {
    "executionInfo": {
     "elapsed": 22679,
     "status": "ok",
     "timestamp": 1605351497663,
     "user": {
      "displayName": "照屋雄大",
      "photoUrl": "",
      "userId": "10960088537317315210"
     },
     "user_tz": -540
    },
    "id": "k_Aa00HErDBw"
   },
   "outputs": [],
   "source": [
    "# OLSによるトレンドフラグの作成\n",
    "# 確認済み\n",
    "def make_target_col_ols(_stock_data_, roc=0.05, date_range=21):\n",
    "    trend_flag_ols = []\n",
    "    for i in range(len(_stock_data_) - date_range + 1):\n",
    "        x = sm.add_constant([n for n in range(date_range)])\n",
    "        y = _stock_data_.loc[i : date_range + i - 1, 'Close']\n",
    "\n",
    "        result = sm.OLS(y, x).fit()\n",
    "\n",
    "        if result.params[1] >= roc * _stock_data_['Close'][i] / date_range and result.pvalues[1] <= 0.01 \\\n",
    "        and result.params[0] >= _stock_data_['Close'][i] and result.pvalues[0] <= 0.01:\n",
    "            trend_flag_ols.append(1)\n",
    "        elif result.params[1] <= -roc * _stock_data_['Close'][i] / date_range and result.pvalues[1] <= 0.01 \\\n",
    "        and result.params[0] <= _stock_data_['Close'][i] and result.pvalues[0] <= 0.01:\n",
    "            trend_flag_ols.append(2)\n",
    "        else:\n",
    "            trend_flag_ols.append(0)\n",
    "\n",
    "    [trend_flag_ols.append(None) for i in range(1, date_range)]\n",
    "    _stock_data_['trend_flag_ols'] = trend_flag_ols\n",
    "make_target_col_ols(stock_data_9613)"
   ]
  },
  {
   "cell_type": "markdown",
   "metadata": {
    "id": "N2WBEDhurDBy"
   },
   "source": [
    "def make_dataset(_stock_data_, start, end, test):\n",
    "    target_col = 'trend_flag_ols'\n",
    "    exclude_cols = ['Id', 'Open', 'High' , 'Low', 'Adj Close', 'trend_flag_ols']\n",
    "    feature_cols = []\n",
    "    for col in _stock_data_.columns:\n",
    "        if col not in exclude_cols:\n",
    "            feature_cols.append(col)\n",
    "\n",
    "    y_train = _stock_data_[(_stock_data_['year'] >= start) & (_stock_data_['year'] <= 2017)][target_col]\n",
    "    x_train = _stock_data_[(_stock_data_['year'] >= start) & (_stock_data_['year'] <= 2017)][feature_cols]\n",
    "    y_train_val = _stock_data_[_stock_data_['year'] == end][target_col]\n",
    "    x_train_val = _stock_data_[_stock_data_['year'] == end][feature_cols]\n",
    "    y_test = _stock_data_[_stock_data_['year'] == test][target_col]\n",
    "    x_test = _stock_data_[_stock_data_['year'] == test][feature_cols]\n",
    "    return y_train, x_train, y_train_val, x_train_val, y_test, x_test\n",
    "    \n",
    "y_train, x_train, y_train_val, x_train_val, y_test, x_test = make_dataset(stock_data_9613, start=2011, end=2018, test=2019)"
   ]
  },
  {
   "cell_type": "code",
   "execution_count": 46,
   "metadata": {
    "executionInfo": {
     "elapsed": 21717,
     "status": "ok",
     "timestamp": 1605351497664,
     "user": {
      "displayName": "照屋雄大",
      "photoUrl": "",
      "userId": "10960088537317315210"
     },
     "user_tz": -540
    },
    "id": "Kk9D9JTTrDBy"
   },
   "outputs": [],
   "source": [
    "\n",
    "####### test_data #######\n",
    "def make_dataset(_stock_data_):\n",
    "    target_col = 'trend_flag_ols'\n",
    "    exclude_cols = ['Id', 'trend_flag_ols', 'year', 'Date']\n",
    "    feature_cols = []\n",
    "    for col in _stock_data_.columns:\n",
    "        if col not in exclude_cols:\n",
    "            feature_cols.append(col)\n",
    "\n",
    "    x_train_val = _stock_data_[(_stock_data_['year'] >= 2011) & (_stock_data_['year'] <= 2018)][feature_cols].reset_index(drop=True)\n",
    "    y_train_val = _stock_data_[(_stock_data_['year'] >= 2011) & (_stock_data_['year'] <= 2018)][target_col].reset_index(drop=True)\n",
    "    x_test = _stock_data_[_stock_data_['year'] == 2019][feature_cols].reset_index(drop=True)\n",
    "    y_test = _stock_data_[_stock_data_['year'] == 2019][target_col].reset_index(drop=True)\n",
    "    \n",
    "    x_train, x_val, y_train, y_val = train_test_split(\n",
    "        x_train_val, y_train_val, test_size=0.3, random_state=777)\n",
    "    \n",
    "    return x_train_val, y_train_val, x_train, y_train, x_val, y_val, x_test, y_test\n",
    "    \n",
    "x_train_val, y_train_val, x_train, y_train, x_val, y_val, x_test, y_test = make_dataset(stock_data_9613)"
   ]
  },
  {
   "cell_type": "markdown",
   "metadata": {
    "id": "hMUbgfe8rDBz"
   },
   "source": [
    "# モデルの作成"
   ]
  },
  {
   "cell_type": "code",
   "execution_count": 47,
   "metadata": {
    "executionInfo": {
     "elapsed": 19435,
     "status": "ok",
     "timestamp": 1605351497665,
     "user": {
      "displayName": "照屋雄大",
      "photoUrl": "",
      "userId": "10960088537317315210"
     },
     "user_tz": -540
    },
    "id": "2OL9ELvi7B9w"
   },
   "outputs": [],
   "source": [
    "def backtest(_stock_data_, y_pred, y_true, return_rate=0.05, loss_rate=0.05):\n",
    "  # print_my_precision\n",
    "  matrix = confusion_matrix(y_pred, y_true)\n",
    "  if (np.sum(matrix[1]) + np.sum(matrix[2])) == 0:\n",
    "    precision = 0\n",
    "  else:\n",
    "    precision = (matrix[1][1] + matrix[2][2]) / (np.sum(matrix[1]) + np.sum(matrix[2]))\n",
    "  print('-----my_precision-----')\n",
    "  print(matrix)\n",
    "  print('my_precision:', precision)\n",
    "  print('----------------------')\n",
    "  \n",
    "  backtest_data = _stock_data_[_stock_data_['year'] >= 2019].reset_index(drop=True)\n",
    "\n",
    "  # start_backtest\n",
    "  trade_count = 0\n",
    "  total_return_price = 0\n",
    "  total_log_return = 0\n",
    "  for index, flag in enumerate(y_pred):\n",
    "    buy_close_price = backtest_data['Close'][index]\n",
    "    if flag == 1:\n",
    "      trade_count += 1\n",
    "      return_close_price = (1 + return_rate) * buy_close_price\n",
    "      loss_close_price = (1 - loss_rate) * buy_close_price\n",
    "      for last_check, recent_close in enumerate(_stock_data_.loc[index + 1 : index + 20]['Close']):\n",
    "        if recent_close >= return_close_price:\n",
    "          return_price = return_rate * buy_close_price * 100\n",
    "          log_return = np.log(1 + return_rate) * 100\n",
    "          total_return_price += return_price\n",
    "          total_log_return += log_return\n",
    "          print('----------------------')\n",
    "          print('trade_count:', trade_count)\n",
    "          print('trend_flag:', flag)\n",
    "          print('====>', 'return_price:', return_price, 'log_rerutn', log_return)\n",
    "          print('====>', 'total_return_price:', total_return_price, 'total_log_rerutn', total_log_return)\n",
    "          print('----------------------')\n",
    "          break\n",
    "        elif recent_close <= loss_close_price:\n",
    "          loss_price = loss_rate * buy_close_price * 100\n",
    "          log_return = np.log(1 - loss_rate) * 100\n",
    "          total_return_price -= loss_price\n",
    "          total_log_return += log_return\n",
    "          print('----------------------')\n",
    "          print('trade_count:', trade_count)\n",
    "          print('trend_flag:', flag)\n",
    "          print('====>', 'loss_price:', loss_price, 'log_rerutn', log_return)\n",
    "          print('====>', 'total_return_price:', total_return_price, 'total_log_rerutn', total_log_return)\n",
    "          print('----------------------')\n",
    "          break\n",
    "        else:\n",
    "          if last_check == 19:\n",
    "            if recent_close >= buy_close_price:\n",
    "              return_price = (recent_close - buy_close_price) * 100\n",
    "              log_return = np.log(recent_close / buy_close_price) * 100\n",
    "              total_return_price += return_price\n",
    "              total_log_return += log_return\n",
    "              print('----------------------')\n",
    "              print('trade_count:', trade_count)\n",
    "              print('trend_flag:', flag)\n",
    "              print('====>', 'return_price:', return_price, 'log_rerutn', log_return)\n",
    "              print('====>', 'total_return_price:', total_return_price, 'total_log_rerutn', total_log_return)\n",
    "              print('----------------------')\n",
    "              break\n",
    "            else:\n",
    "              loss_price = (buy_close_price - recent_close) * 100\n",
    "              log_return = np.log((2 * buy_close_price - recent_close) / buy_close_price)\n",
    "              total_return_price -= loss_price\n",
    "              total_log_return += log_return\n",
    "              print('----------------------')\n",
    "              print('trade_count:', trade_count)\n",
    "              print('trend_flag:', flag)\n",
    "              print('====>', 'loss_price:', loss_price, 'log_rerutn', log_return)\n",
    "              print('====>', 'total_return_price:', total_return_price, 'total_log_rerutn', total_log_return)\n",
    "              print('----------------------')\n",
    "              break\n",
    "\n",
    "    elif flag == 2:\n",
    "      trade_count += 1\n",
    "      return_close_price = (1 - return_rate) * buy_close_price\n",
    "      loss_close_price = (1 + loss_rate) * buy_close_price\n",
    "      for last_check, recent_close in enumerate(_stock_data_.loc[index + 1 : index + 20]['Close']):\n",
    "        if recent_close <= return_close_price:\n",
    "          return_price = return_rate * buy_close_price * 100\n",
    "          log_return = np.log(1 + return_rate) * 100\n",
    "          total_return_price += return_price\n",
    "          total_log_return += log_return\n",
    "          print('----------------------')\n",
    "          print('trade_count:', trade_count)\n",
    "          print('trend_flag:', flag)\n",
    "          print('====>', 'return_price:', return_price, 'log_rerutn', log_return)\n",
    "          print('====>', 'total_return_price:', total_return_price, 'total_log_rerutn', total_log_return)\n",
    "          print('----------------------')\n",
    "          break\n",
    "        elif recent_close >= loss_close_price:\n",
    "          loss_price = loss_rate * buy_close_price * 100\n",
    "          log_return = np.log(1 - loss_rate) * 100\n",
    "          total_return_price -= loss_price\n",
    "          total_log_return += log_return\n",
    "          print('----------------------')\n",
    "          print('trade_count:', trade_count)\n",
    "          print('trend_flag:', flag)\n",
    "          print('====>', 'loss_price:', loss_price, 'log_rerutn', log_return)\n",
    "          print('====>', 'total_return_price:', total_return_price, 'total_log_rerutn', total_log_return)\n",
    "          print('----------------------')\n",
    "          break\n",
    "        else:\n",
    "          if last_check == 19:\n",
    "            if buy_close_price >= recent_close:\n",
    "              return_price = (buy_close_price - recent_close) * 100\n",
    "              log_return = np.log(((2 * buy_close_price - recent_close) / buy_close_price) * 100)\n",
    "              total_return_price += return_price\n",
    "              total_log_return += log_return\n",
    "              print('----------------------')\n",
    "              print('trade_count:', trade_count)\n",
    "              print('trend_flag:', flag)\n",
    "              print('====>', 'return_price:', return_price, 'log_rerutn', log_return)\n",
    "              print('====>', 'total_return_price:', total_return_price, 'total_log_rerutn', total_log_return)\n",
    "              print('----------------------')\n",
    "              break\n",
    "            else:\n",
    "              loss_price = (recent_close - buy_close_price) * 100\n",
    "              log_return = np.log(((2 * buy_close_price - recent_close) / buy_close_price) * 100)\n",
    "              total_return_price -= loss_price\n",
    "              total_log_return += log_return\n",
    "              print('----------------------')\n",
    "              print('trade_count:', trade_count)\n",
    "              print('trend_flag:', flag)\n",
    "              print('====>', 'loss_price:', loss_price, 'log_rerutn', log_return)\n",
    "              print('====>', 'total_return_price:', total_return_price, 'total_log_rerutn', total_log_return)\n",
    "              print('----------------------')\n",
    "              break"
   ]
  },
  {
   "cell_type": "markdown",
   "metadata": {
    "id": "OgHJNZK2rDB0"
   },
   "source": [
    "## Light GBM"
   ]
  },
  {
   "cell_type": "code",
   "execution_count": 48,
   "metadata": {
    "colab": {
     "base_uri": "https://localhost:8080/",
     "output_embedded_package_id": "1TachTYMs-Pjx1DsYF2kFmSjK6Ao9tLEv"
    },
    "executionInfo": {
     "elapsed": 509432,
     "status": "ok",
     "timestamp": 1605351989465,
     "user": {
      "displayName": "照屋雄大",
      "photoUrl": "",
      "userId": "10960088537317315210"
     },
     "user_tz": -540
    },
    "id": "hGy3EB9zrDB0",
    "outputId": "f08784d0-0ab1-4b9a-d039-fe9aa13c438d"
   },
   "outputs": [
    {
     "data": {
      "text/plain": [
       "Output hidden; open in https://colab.research.google.com to view."
      ]
     },
     "metadata": {},
     "output_type": "display_data"
    }
   ],
   "source": [
    "def metric_precision_lgb(preds, data):\n",
    "    y_true = data.get_label()\n",
    "    num_labels = 3\n",
    "    y_pred = np.argmax(preds.reshape(num_labels, len(preds) // num_labels), axis=0)\n",
    "    matrix = confusion_matrix(y_pred, y_true)\n",
    "    if (np.sum(matrix[1]) + np.sum(matrix[2])) == 0:\n",
    "      precision = 0\n",
    "    elif (np.sum(matrix[1]) + np.sum(matrix[2])) == 1:\n",
    "      precision = 0.0001\n",
    "    else:\n",
    "      precision = (matrix[1][1] + matrix[2][2]) / (np.sum(matrix[1]) + np.sum(matrix[2]))\n",
    "    return 'my_precision', precision, True\n",
    "\n",
    "def objective(trial):\n",
    "    dtrain = lgb.Dataset(x_train, label=y_train)\n",
    "    eval_data = lgb.Dataset(x_val, label=y_val)\n",
    "\n",
    "    param = {\n",
    "        \"objective\": \"multiclass\",\n",
    "        \"num_class\": 3,\n",
    "        \"metric\": 'None',\n",
    "        \"verbosity\": -1,\n",
    "        \"boosting_type\": \"gbdt\",\n",
    "        \"random_state\": 1234,\n",
    "        \"lambda_l1\": trial.suggest_float(\"lambda_l1\", 1e-8, 10.0, log=True),\n",
    "        \"lambda_l2\": trial.suggest_float(\"lambda_l2\", 1e-8, 10.0, log=True),\n",
    "        \"num_leaves\": trial.suggest_int(\"num_leaves\", 2, 256),\n",
    "        \"feature_fraction\": trial.suggest_float(\"feature_fraction\", 0.4, 1.0),\n",
    "        \"bagging_fraction\": trial.suggest_float(\"bagging_fraction\", 0.4, 1.0),\n",
    "        \"bagging_freq\": trial.suggest_int(\"bagging_freq\", 1, 7),\n",
    "        \"min_child_samples\": trial.suggest_int(\"min_child_samples\", 5, 100)\n",
    "    }\n",
    "\n",
    "    lgb_optuna_model = lgb.train(param, \n",
    "                                 dtrain, \n",
    "                                 valid_names=['valid'], \n",
    "                                 valid_sets=[eval_data],\n",
    "                                 feval=metric_precision_lgb,\n",
    "                                 num_boost_round=10000,\n",
    "                                 early_stopping_rounds=500)\n",
    "\n",
    "    \n",
    "    y_pred = np.argmax(lgb_optuna_model.predict(x_val), axis=1)\n",
    "    matrix = confusion_matrix(y_pred, y_val)\n",
    "    if (np.sum(matrix[1]) + np.sum(matrix[2])) == 0:\n",
    "        precision = 0\n",
    "    elif (np.sum(matrix[1]) + np.sum(matrix[2])) == 1:\n",
    "      precision = 0.0001\n",
    "    else:\n",
    "        precision = (matrix[1][1] + matrix[2][2]) / (np.sum(matrix[1]) + np.sum(matrix[2]))\n",
    "    return precision\n",
    "    \n",
    "if __name__ == \"__main__\":\n",
    "    study = optuna.create_study(direction=\"maximize\")\n",
    "    study.optimize(objective, n_trials=100)"
   ]
  },
  {
   "cell_type": "code",
   "execution_count": 49,
   "metadata": {
    "colab": {
     "base_uri": "https://localhost:8080/",
     "height": 1000
    },
    "executionInfo": {
     "elapsed": 1464,
     "status": "ok",
     "timestamp": 1605351999667,
     "user": {
      "displayName": "照屋雄大",
      "photoUrl": "",
      "userId": "10960088537317315210"
     },
     "user_tz": -540
    },
    "id": "enwTyXfIrDB2",
    "outputId": "b628d14a-b84b-41c6-d2f8-f750ce36441c"
   },
   "outputs": [
    {
     "name": "stdout",
     "output_type": "stream",
     "text": [
      "-----my_precision-----\n",
      "[[196  21   9]\n",
      " [  6   0   0]\n",
      " [  9   0   0]]\n",
      "my_precision: 0.0\n",
      "----------------------\n",
      "----------------------\n",
      "trade_count: 1\n",
      "trend_flag: 1.0\n",
      "====> loss_price: 6190.000000000001 log_rerutn -5.129329438755057\n",
      "====> total_return_price: -6190.000000000001 total_log_rerutn -5.129329438755057\n",
      "----------------------\n",
      "----------------------\n",
      "trade_count: 2\n",
      "trend_flag: 2.0\n",
      "====> return_price: 6970.0 log_rerutn 4.879016416943205\n",
      "====> total_return_price: 779.9999999999991 total_log_rerutn -0.2503130218118521\n",
      "----------------------\n",
      "----------------------\n",
      "trade_count: 3\n",
      "trend_flag: 1.0\n",
      "====> loss_price: 6845.0 log_rerutn -5.129329438755057\n",
      "====> total_return_price: -6065.000000000001 total_log_rerutn -5.3796424605669095\n",
      "----------------------\n",
      "----------------------\n",
      "trade_count: 4\n",
      "trend_flag: 1.0\n",
      "====> loss_price: 6890.000000000001 log_rerutn -5.129329438755057\n",
      "====> total_return_price: -12955.000000000002 total_log_rerutn -10.508971899321967\n",
      "----------------------\n",
      "----------------------\n",
      "trade_count: 5\n",
      "trend_flag: 2.0\n",
      "====> return_price: 7030.0 log_rerutn 4.879016416943205\n",
      "====> total_return_price: -5925.000000000002 total_log_rerutn -5.629955482378762\n",
      "----------------------\n",
      "----------------------\n",
      "trade_count: 6\n",
      "trend_flag: 2.0\n",
      "====> return_price: 7115.000000000001 log_rerutn 4.879016416943205\n",
      "====> total_return_price: 1189.999999999999 total_log_rerutn -0.7509390654355563\n",
      "----------------------\n",
      "----------------------\n",
      "trade_count: 7\n",
      "trend_flag: 2.0\n",
      "====> return_price: 7080.0 log_rerutn 4.879016416943205\n",
      "====> total_return_price: 8270.0 total_log_rerutn 4.128077351507649\n",
      "----------------------\n",
      "----------------------\n",
      "trade_count: 8\n",
      "trend_flag: 1.0\n",
      "====> loss_price: 6890.000000000001 log_rerutn -5.129329438755057\n",
      "====> total_return_price: 1379.999999999999 total_log_rerutn -1.0012520872474084\n",
      "----------------------\n",
      "----------------------\n",
      "trade_count: 9\n",
      "trend_flag: 1.0\n",
      "====> loss_price: 6975.0 log_rerutn -5.129329438755057\n",
      "====> total_return_price: -5595.000000000001 total_log_rerutn -6.130581526002466\n",
      "----------------------\n",
      "----------------------\n",
      "trade_count: 10\n",
      "trend_flag: 2.0\n",
      "====> return_price: 7070.0 log_rerutn 4.879016416943205\n",
      "====> total_return_price: 1474.999999999999 total_log_rerutn -1.2515651090592605\n",
      "----------------------\n",
      "----------------------\n",
      "trade_count: 11\n",
      "trend_flag: 2.0\n",
      "====> return_price: 7085.000000000001 log_rerutn 4.879016416943205\n",
      "====> total_return_price: 8560.0 total_log_rerutn 3.6274513078839448\n",
      "----------------------\n",
      "----------------------\n",
      "trade_count: 12\n",
      "trend_flag: 2.0\n",
      "====> return_price: 7165.000000000001 log_rerutn 4.879016416943205\n",
      "====> total_return_price: 15725.0 total_log_rerutn 8.50646772482715\n",
      "----------------------\n",
      "----------------------\n",
      "trade_count: 13\n",
      "trend_flag: 2.0\n",
      "====> return_price: 7160.000000000001 log_rerutn 4.879016416943205\n",
      "====> total_return_price: 22885.0 total_log_rerutn 13.385484141770355\n",
      "----------------------\n",
      "----------------------\n",
      "trade_count: 14\n",
      "trend_flag: 2.0\n",
      "====> return_price: 7160.000000000001 log_rerutn 4.879016416943205\n",
      "====> total_return_price: 30045.0 total_log_rerutn 18.26450055871356\n",
      "----------------------\n",
      "----------------------\n",
      "trade_count: 15\n",
      "trend_flag: 1.0\n",
      "====> loss_price: 7180.0 log_rerutn -5.129329438755057\n",
      "====> total_return_price: 22865.0 total_log_rerutn 13.135171119958503\n",
      "----------------------\n"
     ]
    },
    {
     "data": {
      "image/png": "[encoded data removed]",
      "text/plain": [
       "<Figure size 1224x504 with 1 Axes>"
      ]
     },
     "metadata": {
      "needs_background": "light",
      "tags": []
     },
     "output_type": "display_data"
    }
   ],
   "source": [
    "trial = study.best_trial\n",
    "params = {\n",
    "        \"objective\": \"multiclass\",\n",
    "        \"num_class\": 3,\n",
    "        \"verbosity\": -1,\n",
    "        \"boosting_type\": \"gbdt\",\n",
    "        \"random_state\": 777,\n",
    "    }\n",
    "params.update(dict(trial.params.items()))\n",
    "\n",
    "lgb_best_model = lgb.LGBMClassifier(**params)\n",
    "lgb_best_model.fit(x_train_val, y_train_val)\n",
    "y_pred = lgb_best_model.predict(x_test, num_iteration=lgb_best_model.best_iteration_)\n",
    "\n",
    "feature_importance_df = pd.DataFrame({'feature': x_test.columns, 'importance': lgb_best_model.feature_importances_})\n",
    "feature_importance_df = feature_importance_df.sort_values('importance', ascending=False)\n",
    "plt.figure(figsize=(17, 7))\n",
    "sns.barplot(y=feature_importance_df['importance'].iloc[:10], x=feature_importance_df['feature'].iloc[:10])\n",
    "backtest(stock_data_9613, y_pred, y_test)"
   ]
  },
  {
   "cell_type": "markdown",
   "metadata": {
    "id": "bGlaKv_qrDB4"
   },
   "source": [
    "## Random Forest"
   ]
  },
  {
   "cell_type": "code",
   "execution_count": null,
   "metadata": {
    "colab": {
     "base_uri": "https://localhost:8080/"
    },
    "executionInfo": {
     "elapsed": 1146916,
     "status": "ok",
     "timestamp": 1605191442600,
     "user": {
      "displayName": "照屋雄大",
      "photoUrl": "",
      "userId": "10960088537317315210"
     },
     "user_tz": -540
    },
    "id": "VRRTcpdcrDB4",
    "outputId": "9a223036-1049-4703-f1c9-ad3105e946f9"
   },
   "outputs": [
    {
     "name": "stderr",
     "output_type": "stream",
     "text": [
      "\u001b[32m[I 2020-11-12 14:11:35,973]\u001b[0m A new study created in memory with name: no-name-22d79e82-d5d2-41b2-a020-258cf97cdbb9\u001b[0m\n"
     ]
    },
    {
     "name": "stdout",
     "output_type": "stream",
     "text": [
      "[[260  68  49]\n",
      " [ 14   6   0]\n",
      " [  0   0   0]]\n",
      "[[273  75  49]\n",
      " [  0   0   0]\n",
      " [  0   0   0]]\n",
      "[[273  74  50]\n",
      " [  0   0   0]\n",
      " [  0   0   0]]\n",
      "[[273  74  50]\n",
      " [  0   0   0]\n",
      " [  0   0   0]]\n"
     ]
    },
    {
     "name": "stderr",
     "output_type": "stream",
     "text": [
      "\u001b[32m[I 2020-11-12 14:11:43,186]\u001b[0m Trial 0 finished with value: 0.06 and parameters: {'n_estimators': 485, 'max_depth': 2.5826665315576967}. Best is trial 0 with value: 0.06.\u001b[0m\n"
     ]
    },
    {
     "name": "stdout",
     "output_type": "stream",
     "text": [
      "[[273  74  50]\n",
      " [  0   0   0]\n",
      " [  0   0   0]]\n",
      "0.06\n",
      "[[133  27  44]\n",
      " [ 65  26   0]\n",
      " [ 76  21   5]]\n",
      "[[199  61  35]\n",
      " [ 35  12   0]\n",
      " [ 39   2  14]]\n",
      "[[262  73  50]\n",
      " [ 10   1   0]\n",
      " [  1   0   0]]\n",
      "[[260  71  50]\n",
      " [  7   3   0]\n",
      " [  6   0   0]]\n"
     ]
    },
    {
     "name": "stderr",
     "output_type": "stream",
     "text": [
      "\u001b[32m[I 2020-11-12 14:11:50,361]\u001b[0m Trial 1 finished with value: 0.1808008229198415 and parameters: {'n_estimators': 211, 'max_depth': 16.822222776096346}. Best is trial 1 with value: 0.1808008229198415.\u001b[0m\n"
     ]
    },
    {
     "name": "stdout",
     "output_type": "stream",
     "text": [
      "[[156  56  15]\n",
      " [  1   2   0]\n",
      " [116  16  35]]\n",
      "0.1808008229198415\n",
      "[[133  30  44]\n",
      " [ 64  25   0]\n",
      " [ 77  19   5]]\n",
      "[[189  60  34]\n",
      " [ 41  13   1]\n",
      " [ 43   2  14]]\n",
      "[[255  73  49]\n",
      " [ 12   1   0]\n",
      " [  6   0   1]]\n",
      "[[258  69  50]\n",
      " [  9   5   0]\n",
      " [  6   0   0]]\n"
     ]
    },
    {
     "name": "stderr",
     "output_type": "stream",
     "text": [
      "\u001b[32m[I 2020-11-12 14:11:54,914]\u001b[0m Trial 2 finished with value: 0.19125506072874493 and parameters: {'n_estimators': 124, 'max_depth': 34.43841927964868}. Best is trial 2 with value: 0.19125506072874493.\u001b[0m\n"
     ]
    },
    {
     "name": "stdout",
     "output_type": "stream",
     "text": [
      "[[161  60  20]\n",
      " [  1   3   0]\n",
      " [111  11  30]]\n",
      "0.19125506072874493\n",
      "[[172  43  49]\n",
      " [ 48  19   0]\n",
      " [ 54  12   0]]\n",
      "[[218  64  43]\n",
      " [ 15   9   0]\n",
      " [ 40   2   6]]\n",
      "[[272  74  50]\n",
      " [  1   0   0]\n",
      " [  0   0   0]]\n",
      "[[262  74  50]\n",
      " [  4   0   0]\n",
      " [  7   0   0]]\n"
     ]
    },
    {
     "name": "stderr",
     "output_type": "stream",
     "text": [
      "\u001b[32m[I 2020-11-12 14:11:57,738]\u001b[0m Trial 3 finished with value: 0.11641194139194137 and parameters: {'n_estimators': 82, 'max_depth': 8.189680314453806}. Best is trial 2 with value: 0.19125506072874493.\u001b[0m\n"
     ]
    },
    {
     "name": "stdout",
     "output_type": "stream",
     "text": [
      "[[205  71  30]\n",
      " [  1   1   0]\n",
      " [ 67   2  20]]\n",
      "0.11641194139194137\n",
      "[[264  72  49]\n",
      " [ 10   2   0]\n",
      " [  0   0   0]]\n",
      "[[273  75  49]\n",
      " [  0   0   0]\n",
      " [  0   0   0]]\n",
      "[[273  74  50]\n",
      " [  0   0   0]\n",
      " [  0   0   0]]\n",
      "[[273  74  50]\n",
      " [  0   0   0]\n",
      " [  0   0   0]]\n"
     ]
    },
    {
     "name": "stderr",
     "output_type": "stream",
     "text": [
      "\u001b[32m[I 2020-11-12 14:12:00,877]\u001b[0m Trial 4 finished with value: 0.03333333333333333 and parameters: {'n_estimators': 193, 'max_depth': 2.263043028403414}. Best is trial 2 with value: 0.19125506072874493.\u001b[0m\n"
     ]
    },
    {
     "name": "stdout",
     "output_type": "stream",
     "text": [
      "[[273  74  50]\n",
      " [  0   0   0]\n",
      " [  0   0   0]]\n",
      "0.03333333333333333\n",
      "[[274  74  49]\n",
      " [  0   0   0]\n",
      " [  0   0   0]]\n",
      "[[273  75  49]\n",
      " [  0   0   0]\n",
      " [  0   0   0]]\n",
      "[[273  74  50]\n",
      " [  0   0   0]\n",
      " [  0   0   0]]\n",
      "[[273  74  50]\n",
      " [  0   0   0]\n",
      " [  0   0   0]]\n"
     ]
    },
    {
     "name": "stderr",
     "output_type": "stream",
     "text": [
      "\u001b[32m[I 2020-11-12 14:12:06,739]\u001b[0m Trial 5 finished with value: 0.0 and parameters: {'n_estimators': 445, 'max_depth': 1.640818767272552}. Best is trial 2 with value: 0.19125506072874493.\u001b[0m\n"
     ]
    },
    {
     "name": "stdout",
     "output_type": "stream",
     "text": [
      "[[273  74  50]\n",
      " [  0   0   0]\n",
      " [  0   0   0]]\n",
      "0.0\n",
      "[[121  28  45]\n",
      " [ 75  25   0]\n",
      " [ 78  21   4]]\n",
      "[[193  61  33]\n",
      " [ 38  12   0]\n",
      " [ 42   2  16]]\n",
      "[[258  73  49]\n",
      " [  9   1   0]\n",
      " [  6   0   1]]\n",
      "[[259  69  50]\n",
      " [  8   5   0]\n",
      " [  6   0   0]]\n"
     ]
    },
    {
     "name": "stderr",
     "output_type": "stream",
     "text": [
      "\u001b[32m[I 2020-11-12 14:12:19,318]\u001b[0m Trial 6 finished with value: 0.1989536121034218 and parameters: {'n_estimators': 361, 'max_depth': 166.03643326168495}. Best is trial 6 with value: 0.1989536121034218.\u001b[0m\n"
     ]
    },
    {
     "name": "stdout",
     "output_type": "stream",
     "text": [
      "[[163  58  19]\n",
      " [  0   3   0]\n",
      " [110  13  31]]\n",
      "0.1989536121034218\n",
      "[[211  54  49]\n",
      " [ 38  13   0]\n",
      " [ 25   7   0]]\n",
      "[[251  74  45]\n",
      " [  0   0   0]\n",
      " [ 22   1   4]]\n",
      "[[273  74  50]\n",
      " [  0   0   0]\n",
      " [  0   0   0]]\n",
      "[[268  74  50]\n",
      " [  2   0   0]\n",
      " [  3   0   0]]\n"
     ]
    },
    {
     "name": "stderr",
     "output_type": "stream",
     "text": [
      "\u001b[32m[I 2020-11-12 14:12:21,788]\u001b[0m Trial 7 finished with value: 0.1023342411792765 and parameters: {'n_estimators': 95, 'max_depth': 5.367701404938106}. Best is trial 6 with value: 0.1989536121034218.\u001b[0m\n"
     ]
    },
    {
     "name": "stdout",
     "output_type": "stream",
     "text": [
      "[[250  74  44]\n",
      " [  0   0   0]\n",
      " [ 23   0   6]]\n",
      "0.1023342411792765\n",
      "[[238  61  49]\n",
      " [ 36  13   0]\n",
      " [  0   0   0]]\n",
      "[[263  75  48]\n",
      " [  0   0   0]\n",
      " [ 10   0   1]]\n",
      "[[273  74  50]\n",
      " [  0   0   0]\n",
      " [  0   0   0]]\n",
      "[[271  74  50]\n",
      " [  0   0   0]\n",
      " [  2   0   0]]\n"
     ]
    },
    {
     "name": "stderr",
     "output_type": "stream",
     "text": [
      "\u001b[32m[I 2020-11-12 14:12:26,681]\u001b[0m Trial 8 finished with value: 0.0712430426716141 and parameters: {'n_estimators': 250, 'max_depth': 4.471069422712522}. Best is trial 6 with value: 0.1989536121034218.\u001b[0m\n"
     ]
    },
    {
     "name": "stdout",
     "output_type": "stream",
     "text": [
      "[[271  74  50]\n",
      " [  0   0   0]\n",
      " [  2   0   0]]\n",
      "0.0712430426716141\n",
      "[[120  29  44]\n",
      " [ 73  25   0]\n",
      " [ 81  20   5]]\n",
      "[[191  61  34]\n",
      " [ 40  12   1]\n",
      " [ 42   2  14]]\n",
      "[[257  73  49]\n",
      " [ 10   1   0]\n",
      " [  6   0   1]]\n",
      "[[259  69  50]\n",
      " [  8   5   0]\n",
      " [  6   0   0]]\n"
     ]
    },
    {
     "name": "stderr",
     "output_type": "stream",
     "text": [
      "\u001b[32m[I 2020-11-12 14:12:38,120]\u001b[0m Trial 9 finished with value: 0.19486241272231983 and parameters: {'n_estimators': 329, 'max_depth': 24.74846895922768}. Best is trial 6 with value: 0.1989536121034218.\u001b[0m\n"
     ]
    },
    {
     "name": "stdout",
     "output_type": "stream",
     "text": [
      "[[162  58  17]\n",
      " [  0   2   0]\n",
      " [111  14  33]]\n",
      "0.19486241272231983\n",
      "[[122  28  45]\n",
      " [ 74  25   0]\n",
      " [ 78  21   4]]\n",
      "[[194  61  33]\n",
      " [ 37  12   0]\n",
      " [ 42   2  16]]\n",
      "[[258  73  49]\n",
      " [  9   1   0]\n",
      " [  6   0   1]]\n",
      "[[259  69  50]\n",
      " [  8   5   0]\n",
      " [  6   0   0]]\n"
     ]
    },
    {
     "name": "stderr",
     "output_type": "stream",
     "text": [
      "\u001b[32m[I 2020-11-12 14:12:50,746]\u001b[0m Trial 10 finished with value: 0.19928798347173818 and parameters: {'n_estimators': 364, 'max_depth': 194.21709498878485}. Best is trial 10 with value: 0.19928798347173818.\u001b[0m\n"
     ]
    },
    {
     "name": "stdout",
     "output_type": "stream",
     "text": [
      "[[162  58  19]\n",
      " [  0   3   0]\n",
      " [111  13  31]]\n",
      "0.19928798347173818\n",
      "[[121  28  44]\n",
      " [ 75  25   0]\n",
      " [ 78  21   5]]\n",
      "[[194  61  33]\n",
      " [ 37  12   0]\n",
      " [ 42   2  16]]\n",
      "[[258  73  49]\n",
      " [  9   1   0]\n",
      " [  6   0   1]]\n",
      "[[259  69  50]\n",
      " [  8   5   0]\n",
      " [  6   0   0]]\n"
     ]
    },
    {
     "name": "stderr",
     "output_type": "stream",
     "text": [
      "\u001b[32m[I 2020-11-12 14:13:03,886]\u001b[0m Trial 11 finished with value: 0.20026100411777553 and parameters: {'n_estimators': 377, 'max_depth': 194.32755466905905}. Best is trial 11 with value: 0.20026100411777553.\u001b[0m\n"
     ]
    },
    {
     "name": "stdout",
     "output_type": "stream",
     "text": [
      "[[163  58  19]\n",
      " [  0   3   0]\n",
      " [110  13  31]]\n",
      "0.20026100411777553\n",
      "[[121  28  44]\n",
      " [ 75  25   0]\n",
      " [ 78  21   5]]\n",
      "[[194  61  33]\n",
      " [ 37  12   0]\n",
      " [ 42   2  16]]\n",
      "[[258  73  49]\n",
      " [  9   1   0]\n",
      " [  6   0   1]]\n",
      "[[259  69  50]\n",
      " [  8   5   0]\n",
      " [  6   0   0]]\n"
     ]
    },
    {
     "name": "stderr",
     "output_type": "stream",
     "text": [
      "\u001b[32m[I 2020-11-12 14:13:17,026]\u001b[0m Trial 12 finished with value: 0.20026100411777553 and parameters: {'n_estimators': 376, 'max_depth': 199.05665751615976}. Best is trial 11 with value: 0.20026100411777553.\u001b[0m\n"
     ]
    },
    {
     "name": "stdout",
     "output_type": "stream",
     "text": [
      "[[163  58  19]\n",
      " [  0   3   0]\n",
      " [110  13  31]]\n",
      "0.20026100411777553\n",
      "[[120  28  43]\n",
      " [ 77  25   0]\n",
      " [ 77  21   6]]\n",
      "[[193  61  33]\n",
      " [ 38  12   0]\n",
      " [ 42   2  16]]\n",
      "[[257  73  49]\n",
      " [ 10   1   0]\n",
      " [  6   0   1]]\n",
      "[[259  70  50]\n",
      " [  8   4   0]\n",
      " [  6   0   0]]\n"
     ]
    },
    {
     "name": "stderr",
     "output_type": "stream",
     "text": [
      "\u001b[32m[I 2020-11-12 14:13:31,455]\u001b[0m Trial 13 finished with value: 0.19169800218710273 and parameters: {'n_estimators': 425, 'max_depth': 68.18596161872676}. Best is trial 11 with value: 0.20026100411777553.\u001b[0m\n"
     ]
    },
    {
     "name": "stdout",
     "output_type": "stream",
     "text": [
      "[[163  58  17]\n",
      " [  0   2   0]\n",
      " [110  14  33]]\n",
      "0.19169800218710273\n",
      "[[125  28  44]\n",
      " [ 71  25   0]\n",
      " [ 78  21   5]]\n",
      "[[192  61  33]\n",
      " [ 38  12   0]\n",
      " [ 43   2  16]]\n",
      "[[257  73  49]\n",
      " [ 10   1   0]\n",
      " [  6   0   1]]\n",
      "[[259  69  50]\n",
      " [  8   5   0]\n",
      " [  6   0   0]]\n"
     ]
    },
    {
     "name": "stderr",
     "output_type": "stream",
     "text": [
      "\u001b[32m[I 2020-11-12 14:13:42,559]\u001b[0m Trial 14 finished with value: 0.1978042516200411 and parameters: {'n_estimators': 324, 'max_depth': 87.90776066459081}. Best is trial 11 with value: 0.20026100411777553.\u001b[0m\n"
     ]
    },
    {
     "name": "stdout",
     "output_type": "stream",
     "text": [
      "[[161  58  18]\n",
      " [  0   2   0]\n",
      " [112  14  32]]\n",
      "0.1978042516200411\n",
      "[[121  28  43]\n",
      " [ 76  25   0]\n",
      " [ 77  21   6]]\n",
      "[[192  61  33]\n",
      " [ 39  12   0]\n",
      " [ 42   2  16]]\n",
      "[[257  73  49]\n",
      " [ 10   1   0]\n",
      " [  6   0   1]]\n",
      "[[259  70  50]\n",
      " [  8   4   0]\n",
      " [  6   0   0]]\n"
     ]
    },
    {
     "name": "stderr",
     "output_type": "stream",
     "text": [
      "\u001b[32m[I 2020-11-12 14:13:57,004]\u001b[0m Trial 15 finished with value: 0.19166481702449595 and parameters: {'n_estimators': 428, 'max_depth': 96.7406482739312}. Best is trial 11 with value: 0.20026100411777553.\u001b[0m\n"
     ]
    },
    {
     "name": "stdout",
     "output_type": "stream",
     "text": [
      "[[163  59  17]\n",
      " [  0   2   0]\n",
      " [110  13  33]]\n",
      "0.19166481702449595\n",
      "[[124  27  45]\n",
      " [ 73  26   0]\n",
      " [ 77  21   4]]\n",
      "[[194  61  33]\n",
      " [ 37  12   0]\n",
      " [ 42   2  16]]\n",
      "[[257  73  49]\n",
      " [ 10   1   0]\n",
      " [  6   0   1]]\n",
      "[[259  70  50]\n",
      " [  8   4   0]\n",
      " [  6   0   0]]\n"
     ]
    },
    {
     "name": "stderr",
     "output_type": "stream",
     "text": [
      "\u001b[32m[I 2020-11-12 14:14:06,548]\u001b[0m Trial 16 finished with value: 0.1906608553217985 and parameters: {'n_estimators': 277, 'max_depth': 46.97761925792293}. Best is trial 11 with value: 0.20026100411777553.\u001b[0m\n"
     ]
    },
    {
     "name": "stdout",
     "output_type": "stream",
     "text": [
      "[[161  59  18]\n",
      " [  0   2   0]\n",
      " [112  13  32]]\n",
      "0.1906608553217985\n",
      "[[125  29  44]\n",
      " [ 74  24   0]\n",
      " [ 75  21   5]]\n",
      "[[191  61  33]\n",
      " [ 40  12   0]\n",
      " [ 42   2  16]]\n",
      "[[258  73  49]\n",
      " [ 10   1   0]\n",
      " [  5   0   1]]\n",
      "[[259  70  50]\n",
      " [  7   4   0]\n",
      " [  7   0   0]]\n"
     ]
    },
    {
     "name": "stderr",
     "output_type": "stream",
     "text": [
      "\u001b[32m[I 2020-11-12 14:14:23,181]\u001b[0m Trial 17 finished with value: 0.1905978457219316 and parameters: {'n_estimators': 495, 'max_depth': 163.25601318573905}. Best is trial 11 with value: 0.20026100411777553.\u001b[0m\n"
     ]
    },
    {
     "name": "stdout",
     "output_type": "stream",
     "text": [
      "[[160  59  17]\n",
      " [  0   2   0]\n",
      " [113  13  33]]\n",
      "0.1905978457219316\n",
      "[[120  28  44]\n",
      " [ 74  25   0]\n",
      " [ 80  21   5]]\n",
      "[[193  61  33]\n",
      " [ 38  12   0]\n",
      " [ 42   2  16]]\n",
      "[[257  73  49]\n",
      " [ 10   1   0]\n",
      " [  6   0   1]]\n",
      "[[259  69  50]\n",
      " [  8   5   0]\n",
      " [  6   0   0]]\n"
     ]
    },
    {
     "name": "stderr",
     "output_type": "stream",
     "text": [
      "\u001b[32m[I 2020-11-12 14:14:36,450]\u001b[0m Trial 18 finished with value: 0.19779848035909264 and parameters: {'n_estimators': 388, 'max_depth': 118.54114999865587}. Best is trial 11 with value: 0.20026100411777553.\u001b[0m\n"
     ]
    },
    {
     "name": "stdout",
     "output_type": "stream",
     "text": [
      "[[161  58  19]\n",
      " [  0   3   0]\n",
      " [112  13  31]]\n",
      "0.19779848035909264\n",
      "[[167  43  39]\n",
      " [ 78  25   4]\n",
      " [ 29   6   6]]\n",
      "[[173  60  33]\n",
      " [ 62  12  11]\n",
      " [ 38   3   5]]\n",
      "[[254  73  47]\n",
      " [ 11   1   0]\n",
      " [  8   0   3]]\n"
     ]
    },
    {
     "name": "stderr",
     "output_type": "stream",
     "text": [
      "\u001b[32m[I 2020-11-12 14:14:37,334]\u001b[0m Trial 19 finished with value: 0.16680395679278526 and parameters: {'n_estimators': 8, 'max_depth': 47.07445894712671}. Best is trial 11 with value: 0.20026100411777553.\u001b[0m\n"
     ]
    },
    {
     "name": "stdout",
     "output_type": "stream",
     "text": [
      "[[259  72  50]\n",
      " [  6   2   0]\n",
      " [  8   0   0]]\n",
      "[[199  69  32]\n",
      " [  2   1   0]\n",
      " [ 72   4  18]]\n",
      "0.16680395679278526\n",
      "[[274  74  49]\n",
      " [  0   0   0]\n",
      " [  0   0   0]]\n",
      "[[273  75  49]\n",
      " [  0   0   0]\n",
      " [  0   0   0]]\n",
      "[[273  74  50]\n",
      " [  0   0   0]\n",
      " [  0   0   0]]\n",
      "[[273  74  50]\n",
      " [  0   0   0]\n",
      " [  0   0   0]]\n"
     ]
    },
    {
     "name": "stderr",
     "output_type": "stream",
     "text": [
      "\u001b[32m[I 2020-11-12 14:14:41,313]\u001b[0m Trial 20 finished with value: 0.0 and parameters: {'n_estimators': 285, 'max_depth': 1.0352641268471556}. Best is trial 11 with value: 0.20026100411777553.\u001b[0m\n"
     ]
    },
    {
     "name": "stdout",
     "output_type": "stream",
     "text": [
      "[[273  74  50]\n",
      " [  0   0   0]\n",
      " [  0   0   0]]\n",
      "0.0\n",
      "[[121  28  44]\n",
      " [ 75  25   0]\n",
      " [ 78  21   5]]\n",
      "[[194  61  33]\n",
      " [ 37  12   0]\n",
      " [ 42   2  16]]\n",
      "[[258  73  49]\n",
      " [  9   1   0]\n",
      " [  6   0   1]]\n",
      "[[259  69  50]\n",
      " [  8   5   0]\n",
      " [  6   0   0]]\n"
     ]
    },
    {
     "name": "stderr",
     "output_type": "stream",
     "text": [
      "\u001b[32m[I 2020-11-12 14:14:54,528]\u001b[0m Trial 21 finished with value: 0.20026100411777553 and parameters: {'n_estimators': 377, 'max_depth': 170.25752759429506}. Best is trial 11 with value: 0.20026100411777553.\u001b[0m\n"
     ]
    },
    {
     "name": "stdout",
     "output_type": "stream",
     "text": [
      "[[163  58  19]\n",
      " [  0   3   0]\n",
      " [110  13  31]]\n",
      "0.20026100411777553\n",
      "[[122  28  44]\n",
      " [ 76  25   0]\n",
      " [ 76  21   5]]\n",
      "[[193  61  33]\n",
      " [ 38  12   0]\n",
      " [ 42   2  16]]\n",
      "[[257  73  49]\n",
      " [ 10   1   0]\n",
      " [  6   0   1]]\n",
      "[[259  69  50]\n",
      " [  8   5   0]\n",
      " [  6   0   0]]\n"
     ]
    },
    {
     "name": "stderr",
     "output_type": "stream",
     "text": [
      "\u001b[32m[I 2020-11-12 14:15:08,383]\u001b[0m Trial 22 finished with value: 0.19990552958613345 and parameters: {'n_estimators': 402, 'max_depth': 186.106987288978}. Best is trial 11 with value: 0.20026100411777553.\u001b[0m\n"
     ]
    },
    {
     "name": "stdout",
     "output_type": "stream",
     "text": [
      "[[164  58  18]\n",
      " [  0   3   0]\n",
      " [109  13  32]]\n",
      "0.19990552958613345\n",
      "[[123  29  43]\n",
      " [ 75  24   0]\n",
      " [ 76  21   6]]\n",
      "[[190  61  33]\n",
      " [ 41  12   0]\n",
      " [ 42   2  16]]\n",
      "[[259  73  49]\n",
      " [  9   1   0]\n",
      " [  5   0   1]]\n",
      "[[259  70  50]\n",
      " [  8   4   0]\n",
      " [  6   0   0]]\n"
     ]
    },
    {
     "name": "stderr",
     "output_type": "stream",
     "text": [
      "\u001b[32m[I 2020-11-12 14:15:24,102]\u001b[0m Trial 23 finished with value: 0.19164972214144155 and parameters: {'n_estimators': 466, 'max_depth': 121.38568087275296}. Best is trial 11 with value: 0.20026100411777553.\u001b[0m\n"
     ]
    },
    {
     "name": "stdout",
     "output_type": "stream",
     "text": [
      "[[160  57  17]\n",
      " [  0   2   0]\n",
      " [113  15  33]]\n",
      "0.19164972214144155\n",
      "[[125  28  45]\n",
      " [ 71  25   0]\n",
      " [ 78  21   4]]\n",
      "[[192  61  33]\n",
      " [ 38  12   0]\n",
      " [ 43   2  16]]\n",
      "[[257  73  49]\n",
      " [ 10   1   0]\n",
      " [  6   0   1]]\n",
      "[[259  69  50]\n",
      " [  8   5   0]\n",
      " [  6   0   0]]\n"
     ]
    },
    {
     "name": "stderr",
     "output_type": "stream",
     "text": [
      "\u001b[32m[I 2020-11-12 14:15:35,149]\u001b[0m Trial 24 finished with value: 0.19748795494680146 and parameters: {'n_estimators': 323, 'max_depth': 62.34030457107148}. Best is trial 11 with value: 0.20026100411777553.\u001b[0m\n"
     ]
    },
    {
     "name": "stdout",
     "output_type": "stream",
     "text": [
      "[[163  58  18]\n",
      " [  0   2   0]\n",
      " [110  14  32]]\n",
      "0.19748795494680146\n",
      "[[121  28  44]\n",
      " [ 75  25   0]\n",
      " [ 78  21   5]]\n",
      "[[194  61  33]\n",
      " [ 37  12   0]\n",
      " [ 42   2  16]]\n",
      "[[257  73  49]\n",
      " [ 10   1   0]\n",
      " [  6   0   1]]\n",
      "[[259  69  50]\n",
      " [  8   5   0]\n",
      " [  6   0   0]]\n"
     ]
    },
    {
     "name": "stderr",
     "output_type": "stream",
     "text": [
      "\u001b[32m[I 2020-11-12 14:15:48,321]\u001b[0m Trial 25 finished with value: 0.19895381457529182 and parameters: {'n_estimators': 378, 'max_depth': 179.69556644143262}. Best is trial 11 with value: 0.20026100411777553.\u001b[0m\n"
     ]
    },
    {
     "name": "stdout",
     "output_type": "stream",
     "text": [
      "[[163  58  19]\n",
      " [  0   3   0]\n",
      " [110  13  31]]\n",
      "0.19895381457529182\n",
      "[[123  28  45]\n",
      " [ 73  25   0]\n",
      " [ 78  21   4]]\n",
      "[[191  61  33]\n",
      " [ 39  12   0]\n",
      " [ 43   2  16]]\n",
      "[[258  73  49]\n",
      " [  9   1   0]\n",
      " [  6   0   1]]\n",
      "[[259  70  50]\n",
      " [  8   4   0]\n",
      " [  6   0   0]]\n"
     ]
    },
    {
     "name": "stderr",
     "output_type": "stream",
     "text": [
      "\u001b[32m[I 2020-11-12 14:15:59,947]\u001b[0m Trial 26 finished with value: 0.18996683250414595 and parameters: {'n_estimators': 336, 'max_depth': 119.59285612320723}. Best is trial 11 with value: 0.20026100411777553.\u001b[0m\n"
     ]
    },
    {
     "name": "stdout",
     "output_type": "stream",
     "text": [
      "[[166  59  19]\n",
      " [  0   2   0]\n",
      " [107  13  31]]\n",
      "0.18996683250414595\n",
      "[[124  27  45]\n",
      " [ 72  26   0]\n",
      " [ 78  21   4]]\n",
      "[[196  61  33]\n",
      " [ 35  12   0]\n",
      " [ 42   2  16]]\n",
      "[[255  73  49]\n",
      " [ 12   1   0]\n",
      " [  6   0   1]]\n",
      "[[259  70  50]\n",
      " [  8   4   0]\n",
      " [  6   0   0]]\n"
     ]
    },
    {
     "name": "stderr",
     "output_type": "stream",
     "text": [
      "\u001b[32m[I 2020-11-12 14:16:09,486]\u001b[0m Trial 27 finished with value: 0.18939893490871626 and parameters: {'n_estimators': 284, 'max_depth': 62.77152692409458}. Best is trial 11 with value: 0.20026100411777553.\u001b[0m\n"
     ]
    },
    {
     "name": "stdout",
     "output_type": "stream",
     "text": [
      "[[161  59  18]\n",
      " [  0   2   0]\n",
      " [112  13  32]]\n",
      "0.18939893490871626\n",
      "[[121  28  45]\n",
      " [ 77  25   0]\n",
      " [ 76  21   4]]\n",
      "[[191  61  33]\n",
      " [ 40  12   0]\n",
      " [ 42   2  16]]\n",
      "[[257  73  49]\n",
      " [ 10   1   0]\n",
      " [  6   0   1]]\n",
      "[[259  70  50]\n",
      " [  8   4   0]\n",
      " [  6   0   0]]\n"
     ]
    },
    {
     "name": "stderr",
     "output_type": "stream",
     "text": [
      "\u001b[32m[I 2020-11-12 14:16:23,647]\u001b[0m Trial 28 finished with value: 0.18855019714892327 and parameters: {'n_estimators': 410, 'max_depth': 25.459163373312894}. Best is trial 11 with value: 0.20026100411777553.\u001b[0m\n"
     ]
    },
    {
     "name": "stdout",
     "output_type": "stream",
     "text": [
      "[[163  58  19]\n",
      " [  0   3   0]\n",
      " [110  13  31]]\n",
      "0.18855019714892327\n",
      "[[125  29  44]\n",
      " [ 74  24   0]\n",
      " [ 75  21   5]]\n",
      "[[191  61  33]\n",
      " [ 40  12   0]\n",
      " [ 42   2  16]]\n",
      "[[258  73  49]\n",
      " [ 10   1   0]\n",
      " [  5   0   1]]\n",
      "[[259  70  50]\n",
      " [  7   4   0]\n",
      " [  7   0   0]]\n"
     ]
    },
    {
     "name": "stderr",
     "output_type": "stream",
     "text": [
      "\u001b[32m[I 2020-11-12 14:16:40,325]\u001b[0m Trial 29 finished with value: 0.1905978457219316 and parameters: {'n_estimators': 495, 'max_depth': 133.62136026841839}. Best is trial 11 with value: 0.20026100411777553.\u001b[0m\n"
     ]
    },
    {
     "name": "stdout",
     "output_type": "stream",
     "text": [
      "[[160  59  17]\n",
      " [  0   2   0]\n",
      " [113  13  33]]\n",
      "0.1905978457219316\n",
      "[[122  29  44]\n",
      " [ 76  24   0]\n",
      " [ 76  21   5]]\n",
      "[[189  61  33]\n",
      " [ 42  12   0]\n",
      " [ 42   2  16]]\n",
      "[[259  73  49]\n",
      " [  9   1   0]\n",
      " [  5   0   1]]\n",
      "[[259  70  50]\n",
      " [  8   4   0]\n",
      " [  6   0   0]]\n"
     ]
    },
    {
     "name": "stderr",
     "output_type": "stream",
     "text": [
      "\u001b[32m[I 2020-11-12 14:16:55,721]\u001b[0m Trial 30 finished with value: 0.19075838361868222 and parameters: {'n_estimators': 454, 'max_depth': 198.4733213838752}. Best is trial 11 with value: 0.20026100411777553.\u001b[0m\n"
     ]
    },
    {
     "name": "stdout",
     "output_type": "stream",
     "text": [
      "[[162  57  17]\n",
      " [  0   2   0]\n",
      " [111  15  33]]\n",
      "0.19075838361868222\n",
      "[[123  28  44]\n",
      " [ 75  25   0]\n",
      " [ 76  21   5]]\n",
      "[[193  61  33]\n",
      " [ 38  12   0]\n",
      " [ 42   2  16]]\n",
      "[[257  73  49]\n",
      " [ 10   1   0]\n",
      " [  6   0   1]]\n",
      "[[259  69  50]\n",
      " [  8   5   0]\n",
      " [  6   0   0]]\n"
     ]
    },
    {
     "name": "stderr",
     "output_type": "stream",
     "text": [
      "\u001b[32m[I 2020-11-12 14:17:09,533]\u001b[0m Trial 31 finished with value: 0.20005184963685774 and parameters: {'n_estimators': 399, 'max_depth': 87.6938321595999}. Best is trial 11 with value: 0.20026100411777553.\u001b[0m\n"
     ]
    },
    {
     "name": "stdout",
     "output_type": "stream",
     "text": [
      "[[164  58  18]\n",
      " [  0   3   0]\n",
      " [109  13  32]]\n",
      "0.20005184963685774\n",
      "[[122  28  45]\n",
      " [ 75  25   0]\n",
      " [ 77  21   4]]\n",
      "[[194  61  33]\n",
      " [ 37  12   0]\n",
      " [ 42   2  16]]\n",
      "[[257  73  49]\n",
      " [ 10   1   0]\n",
      " [  6   0   1]]\n",
      "[[259  69  50]\n",
      " [  8   5   0]\n",
      " [  6   0   0]]\n"
     ]
    },
    {
     "name": "stderr",
     "output_type": "stream",
     "text": [
      "\u001b[32m[I 2020-11-12 14:17:21,998]\u001b[0m Trial 32 finished with value: 0.19725051155340248 and parameters: {'n_estimators': 358, 'max_depth': 84.94470732890261}. Best is trial 11 with value: 0.20026100411777553.\u001b[0m\n"
     ]
    },
    {
     "name": "stdout",
     "output_type": "stream",
     "text": [
      "[[163  59  19]\n",
      " [  0   2   0]\n",
      " [110  13  31]]\n",
      "0.19725051155340248\n",
      "[[123  29  43]\n",
      " [ 75  24   0]\n",
      " [ 76  21   6]]\n",
      "[[190  61  33]\n",
      " [ 41  12   0]\n",
      " [ 42   2  16]]\n",
      "[[258  73  49]\n",
      " [ 10   1   0]\n",
      " [  5   0   1]]\n",
      "[[259  70  50]\n",
      " [  8   4   0]\n",
      " [  6   0   0]]\n"
     ]
    },
    {
     "name": "stderr",
     "output_type": "stream",
     "text": [
      "\u001b[32m[I 2020-11-12 14:17:38,086]\u001b[0m Trial 33 finished with value: 0.1904442251732837 and parameters: {'n_estimators': 469, 'max_depth': 198.931363417267}. Best is trial 11 with value: 0.20026100411777553.\u001b[0m\n"
     ]
    },
    {
     "name": "stdout",
     "output_type": "stream",
     "text": [
      "[[161  57  17]\n",
      " [  0   2   0]\n",
      " [112  15  33]]\n",
      "0.1904442251732837\n",
      "[[128  28  45]\n",
      " [ 67  26   0]\n",
      " [ 79  20   4]]\n",
      "[[196  60  33]\n",
      " [ 35  13   0]\n",
      " [ 42   2  16]]\n",
      "[[258  73  49]\n",
      " [  9   1   0]\n",
      " [  6   0   1]]\n",
      "[[258  70  50]\n",
      " [  9   4   0]\n",
      " [  6   0   0]]\n"
     ]
    },
    {
     "name": "stderr",
     "output_type": "stream",
     "text": [
      "\u001b[32m[I 2020-11-12 14:17:45,318]\u001b[0m Trial 34 finished with value: 0.19230356470073412 and parameters: {'n_estimators': 203, 'max_depth': 140.06882673351706}. Best is trial 11 with value: 0.20026100411777553.\u001b[0m\n"
     ]
    },
    {
     "name": "stdout",
     "output_type": "stream",
     "text": [
      "[[154  57  16]\n",
      " [  0   2   0]\n",
      " [119  15  34]]\n",
      "0.19230356470073412\n",
      "[[126  27  42]\n",
      " [ 69  26   0]\n",
      " [ 79  21   7]]\n",
      "[[190  62  33]\n",
      " [ 41  12   0]\n",
      " [ 42   1  16]]\n",
      "[[255  73  49]\n",
      " [ 12   1   0]\n",
      " [  6   0   1]]\n",
      "[[259  70  50]\n",
      " [  8   4   0]\n",
      " [  6   0   0]]\n"
     ]
    },
    {
     "name": "stderr",
     "output_type": "stream",
     "text": [
      "\u001b[32m[I 2020-11-12 14:17:54,064]\u001b[0m Trial 35 finished with value: 0.18862714573344128 and parameters: {'n_estimators': 248, 'max_depth': 42.211451287509455}. Best is trial 11 with value: 0.20026100411777553.\u001b[0m\n"
     ]
    },
    {
     "name": "stdout",
     "output_type": "stream",
     "text": [
      "[[160  59  19]\n",
      " [  0   2   0]\n",
      " [113  13  31]]\n",
      "0.18862714573344128\n",
      "[[140  33  46]\n",
      " [ 66  20   0]\n",
      " [ 68  21   3]]\n",
      "[[203  63  35]\n",
      " [ 29  11   0]\n",
      " [ 41   1  14]]\n",
      "[[270  73  50]\n",
      " [  3   1   0]\n",
      " [  0   0   0]]\n",
      "[[260  74  50]\n",
      " [  8   0   0]\n",
      " [  5   0   0]]\n"
     ]
    },
    {
     "name": "stderr",
     "output_type": "stream",
     "text": [
      "\u001b[32m[I 2020-11-12 14:18:06,446]\u001b[0m Trial 36 finished with value: 0.17755009011292278 and parameters: {'n_estimators': 401, 'max_depth': 12.998146294599433}. Best is trial 11 with value: 0.20026100411777553.\u001b[0m\n"
     ]
    },
    {
     "name": "stdout",
     "output_type": "stream",
     "text": [
      "[[183  62  19]\n",
      " [  0   2   0]\n",
      " [ 90  10  31]]\n",
      "0.17755009011292278\n",
      "[[122  27  45]\n",
      " [ 73  26   0]\n",
      " [ 79  21   4]]\n",
      "[[190  61  33]\n",
      " [ 40  12   0]\n",
      " [ 43   2  16]]\n",
      "[[257  73  49]\n",
      " [ 10   1   0]\n",
      " [  6   0   1]]\n",
      "[[259  69  50]\n",
      " [  8   5   0]\n",
      " [  6   0   0]]\n"
     ]
    },
    {
     "name": "stderr",
     "output_type": "stream",
     "text": [
      "\u001b[32m[I 2020-11-12 14:18:16,859]\u001b[0m Trial 37 finished with value: 0.1947087142805306 and parameters: {'n_estimators': 306, 'max_depth': 89.74773321169879}. Best is trial 11 with value: 0.20026100411777553.\u001b[0m\n"
     ]
    },
    {
     "name": "stdout",
     "output_type": "stream",
     "text": [
      "[[158  58  19]\n",
      " [  0   2   0]\n",
      " [115  14  31]]\n",
      "0.1947087142805306\n",
      "[[122  28  43]\n",
      " [ 75  25   0]\n",
      " [ 77  21   6]]\n",
      "[[192  61  33]\n",
      " [ 39  12   0]\n",
      " [ 42   2  16]]\n",
      "[[259  73  49]\n",
      " [  9   1   0]\n",
      " [  5   0   1]]\n",
      "[[259  70  50]\n",
      " [  8   4   0]\n",
      " [  6   0   0]]\n"
     ]
    },
    {
     "name": "stderr",
     "output_type": "stream",
     "text": [
      "\u001b[32m[I 2020-11-12 14:18:31,871]\u001b[0m Trial 38 finished with value: 0.1933250264411843 and parameters: {'n_estimators': 437, 'max_depth': 108.42523008061961}. Best is trial 11 with value: 0.20026100411777553.\u001b[0m\n"
     ]
    },
    {
     "name": "stdout",
     "output_type": "stream",
     "text": [
      "[[163  58  18]\n",
      " [  0   2   0]\n",
      " [110  14  32]]\n",
      "0.1933250264411843\n",
      "[[123  28  44]\n",
      " [ 74  25   0]\n",
      " [ 77  21   5]]\n",
      "[[193  61  33]\n",
      " [ 38  12   0]\n",
      " [ 42   2  16]]\n",
      "[[258  73  49]\n",
      " [  9   1   0]\n",
      " [  6   0   1]]\n",
      "[[259  70  50]\n",
      " [  8   4   0]\n",
      " [  6   0   0]]\n"
     ]
    },
    {
     "name": "stderr",
     "output_type": "stream",
     "text": [
      "\u001b[32m[I 2020-11-12 14:18:44,236]\u001b[0m Trial 39 finished with value: 0.19116656257656126 and parameters: {'n_estimators': 347, 'max_depth': 153.50400599755665}. Best is trial 11 with value: 0.20026100411777553.\u001b[0m\n"
     ]
    },
    {
     "name": "stdout",
     "output_type": "stream",
     "text": [
      "[[164  59  19]\n",
      " [  0   2   0]\n",
      " [109  13  31]]\n",
      "0.19116656257656126\n",
      "[[122  28  44]\n",
      " [ 74  25   0]\n",
      " [ 78  21   5]]\n",
      "[[193  61  33]\n",
      " [ 38  12   0]\n",
      " [ 42   2  16]]\n",
      "[[257  73  49]\n",
      " [ 10   1   0]\n",
      " [  6   0   1]]\n",
      "[[259  69  50]\n",
      " [  8   5   0]\n",
      " [  6   0   0]]\n"
     ]
    },
    {
     "name": "stderr",
     "output_type": "stream",
     "text": [
      "\u001b[32m[I 2020-11-12 14:18:57,744]\u001b[0m Trial 40 finished with value: 0.19890928591473053 and parameters: {'n_estimators': 393, 'max_depth': 70.71922238207904}. Best is trial 11 with value: 0.20026100411777553.\u001b[0m\n"
     ]
    },
    {
     "name": "stdout",
     "output_type": "stream",
     "text": [
      "[[164  58  19]\n",
      " [  0   3   0]\n",
      " [109  13  31]]\n",
      "0.19890928591473053\n",
      "[[121  28  44]\n",
      " [ 75  25   0]\n",
      " [ 78  21   5]]\n",
      "[[194  61  33]\n",
      " [ 37  12   0]\n",
      " [ 42   2  16]]\n",
      "[[257  73  49]\n",
      " [ 10   1   0]\n",
      " [  6   0   1]]\n",
      "[[259  69  50]\n",
      " [  8   5   0]\n",
      " [  6   0   0]]\n"
     ]
    },
    {
     "name": "stderr",
     "output_type": "stream",
     "text": [
      "\u001b[32m[I 2020-11-12 14:19:10,957]\u001b[0m Trial 41 finished with value: 0.19895381457529182 and parameters: {'n_estimators': 378, 'max_depth': 196.1522078604174}. Best is trial 11 with value: 0.20026100411777553.\u001b[0m\n"
     ]
    },
    {
     "name": "stdout",
     "output_type": "stream",
     "text": [
      "[[163  58  19]\n",
      " [  0   3   0]\n",
      " [110  13  31]]\n",
      "0.19895381457529182\n",
      "[[121  28  44]\n",
      " [ 76  25   0]\n",
      " [ 77  21   5]]\n",
      "[[193  61  33]\n",
      " [ 38  12   0]\n",
      " [ 42   2  16]]\n",
      "[[257  73  49]\n",
      " [ 10   1   0]\n",
      " [  6   0   1]]\n",
      "[[259  70  50]\n",
      " [  8   4   0]\n",
      " [  6   0   0]]\n"
     ]
    },
    {
     "name": "stderr",
     "output_type": "stream",
     "text": [
      "\u001b[32m[I 2020-11-12 14:19:25,046]\u001b[0m Trial 42 finished with value: 0.19129131974999436 and parameters: {'n_estimators': 417, 'max_depth': 152.01996843623323}. Best is trial 11 with value: 0.20026100411777553.\u001b[0m\n"
     ]
    },
    {
     "name": "stdout",
     "output_type": "stream",
     "text": [
      "[[163  59  17]\n",
      " [  0   2   0]\n",
      " [110  13  33]]\n",
      "0.19129131974999436\n",
      "[[139  35  46]\n",
      " [ 65  19   0]\n",
      " [ 70  20   3]]\n",
      "[[208  64  34]\n",
      " [ 26  10   0]\n",
      " [ 39   1  15]]\n",
      "[[271  74  50]\n",
      " [  2   0   0]\n",
      " [  0   0   0]]\n",
      "[[262  74  50]\n",
      " [  5   0   0]\n",
      " [  6   0   0]]\n"
     ]
    },
    {
     "name": "stderr",
     "output_type": "stream",
     "text": [
      "\u001b[32m[I 2020-11-12 14:19:36,093]\u001b[0m Trial 43 finished with value: 0.13023859461589748 and parameters: {'n_estimators': 366, 'max_depth': 11.564917316740262}. Best is trial 11 with value: 0.20026100411777553.\u001b[0m\n"
     ]
    },
    {
     "name": "stdout",
     "output_type": "stream",
     "text": [
      "[[194  65  23]\n",
      " [  0   2   0]\n",
      " [ 79   7  27]]\n",
      "0.13023859461589748\n",
      "[[122  28  43]\n",
      " [ 75  25   0]\n",
      " [ 77  21   6]]\n",
      "[[190  61  33]\n",
      " [ 41  12   0]\n",
      " [ 42   2  16]]\n",
      "[[259  73  49]\n",
      " [  9   1   0]\n",
      " [  5   0   1]]\n",
      "[[259  70  50]\n",
      " [  8   4   0]\n",
      " [  6   0   0]]\n"
     ]
    },
    {
     "name": "stderr",
     "output_type": "stream",
     "text": [
      "\u001b[32m[I 2020-11-12 14:19:51,136]\u001b[0m Trial 44 finished with value: 0.1926039999742932 and parameters: {'n_estimators': 448, 'max_depth': 192.95051659869537}. Best is trial 11 with value: 0.20026100411777553.\u001b[0m\n"
     ]
    },
    {
     "name": "stdout",
     "output_type": "stream",
     "text": [
      "[[161  57  17]\n",
      " [  0   2   0]\n",
      " [112  15  33]]\n",
      "0.1926039999742932\n",
      "[[122  27  45]\n",
      " [ 73  26   0]\n",
      " [ 79  21   4]]\n",
      "[[190  61  33]\n",
      " [ 40  12   0]\n",
      " [ 43   2  16]]\n",
      "[[257  73  49]\n",
      " [ 10   1   0]\n",
      " [  6   0   1]]\n",
      "[[259  70  50]\n",
      " [  8   4   0]\n",
      " [  6   0   0]]\n"
     ]
    },
    {
     "name": "stderr",
     "output_type": "stream",
     "text": [
      "\u001b[32m[I 2020-11-12 14:20:01,727]\u001b[0m Trial 45 finished with value: 0.18724425367101222 and parameters: {'n_estimators': 308, 'max_depth': 145.4791506231166}. Best is trial 11 with value: 0.20026100411777553.\u001b[0m\n"
     ]
    },
    {
     "name": "stdout",
     "output_type": "stream",
     "text": [
      "[[157  58  18]\n",
      " [  0   2   0]\n",
      " [116  14  32]]\n",
      "0.18724425367101222\n",
      "[[135  30  45]\n",
      " [ 66  26   0]\n",
      " [ 73  18   4]]\n",
      "[[190  59  34]\n",
      " [ 41  13   1]\n",
      " [ 42   3  14]]\n",
      "[[255  73  49]\n",
      " [ 12   1   0]\n",
      " [  6   0   1]]\n",
      "[[258  69  50]\n",
      " [  8   5   0]\n",
      " [  7   0   0]]\n"
     ]
    },
    {
     "name": "stderr",
     "output_type": "stream",
     "text": [
      "\u001b[32m[I 2020-11-12 14:20:07,328]\u001b[0m Trial 46 finished with value: 0.19473700141788233 and parameters: {'n_estimators': 149, 'max_depth': 24.77229047824038}. Best is trial 11 with value: 0.20026100411777553.\u001b[0m\n"
     ]
    },
    {
     "name": "stdout",
     "output_type": "stream",
     "text": [
      "[[161  60  17]\n",
      " [  0   3   0]\n",
      " [112  11  33]]\n",
      "0.19473700141788233\n",
      "[[232  59  49]\n",
      " [ 42  15   0]\n",
      " [  0   0   0]]\n",
      "[[268  75  49]\n",
      " [  0   0   0]\n",
      " [  5   0   0]]\n",
      "[[273  74  50]\n",
      " [  0   0   0]\n",
      " [  0   0   0]]\n",
      "[[272  74  50]\n",
      " [  0   0   0]\n",
      " [  1   0   0]]\n"
     ]
    },
    {
     "name": "stderr",
     "output_type": "stream",
     "text": [
      "\u001b[32m[I 2020-11-12 14:20:15,485]\u001b[0m Trial 47 finished with value: 0.05265157894736842 and parameters: {'n_estimators': 405, 'max_depth': 4.316017399079412}. Best is trial 11 with value: 0.20026100411777553.\u001b[0m\n"
     ]
    },
    {
     "name": "stdout",
     "output_type": "stream",
     "text": [
      "[[271  74  50]\n",
      " [  0   0   0]\n",
      " [  2   0   0]]\n",
      "0.05265157894736842\n",
      "[[123  29  43]\n",
      " [ 74  24   0]\n",
      " [ 77  21   6]]\n",
      "[[191  61  33]\n",
      " [ 40  12   0]\n",
      " [ 42   2  16]]\n",
      "[[258  73  49]\n",
      " [ 10   1   0]\n",
      " [  5   0   1]]\n",
      "[[259  70  50]\n",
      " [  8   4   0]\n",
      " [  6   0   0]]\n"
     ]
    },
    {
     "name": "stderr",
     "output_type": "stream",
     "text": [
      "\u001b[32m[I 2020-11-12 14:20:31,542]\u001b[0m Trial 48 finished with value: 0.19142682650618004 and parameters: {'n_estimators': 482, 'max_depth': 76.9718281950634}. Best is trial 11 with value: 0.20026100411777553.\u001b[0m\n"
     ]
    },
    {
     "name": "stdout",
     "output_type": "stream",
     "text": [
      "[[161  59  17]\n",
      " [  0   2   0]\n",
      " [112  13  33]]\n",
      "0.19142682650618004\n",
      "[[120  28  44]\n",
      " [ 77  25   0]\n",
      " [ 77  21   5]]\n",
      "[[193  61  33]\n",
      " [ 38  12   0]\n",
      " [ 42   2  16]]\n",
      "[[257  73  49]\n",
      " [ 10   1   0]\n",
      " [  6   0   1]]\n",
      "[[259  70  50]\n",
      " [  8   4   0]\n",
      " [  6   0   0]]\n"
     ]
    },
    {
     "name": "stderr",
     "output_type": "stream",
     "text": [
      "\u001b[32m[I 2020-11-12 14:20:45,929]\u001b[0m Trial 49 finished with value: 0.19143003751983093 and parameters: {'n_estimators': 422, 'max_depth': 106.01316087883686}. Best is trial 11 with value: 0.20026100411777553.\u001b[0m\n"
     ]
    },
    {
     "name": "stdout",
     "output_type": "stream",
     "text": [
      "[[164  59  17]\n",
      " [  0   2   0]\n",
      " [109  13  33]]\n",
      "0.19143003751983093\n",
      "[[125  28  44]\n",
      " [ 73  25   0]\n",
      " [ 76  21   5]]\n",
      "[[192  61  33]\n",
      " [ 40  12   0]\n",
      " [ 41   2  16]]\n",
      "[[258  73  49]\n",
      " [  9   1   0]\n",
      " [  6   0   1]]\n",
      "[[259  70  50]\n",
      " [  8   4   0]\n",
      " [  6   0   0]]\n"
     ]
    },
    {
     "name": "stderr",
     "output_type": "stream",
     "text": [
      "\u001b[32m[I 2020-11-12 14:20:58,165]\u001b[0m Trial 50 finished with value: 0.19156156156156157 and parameters: {'n_estimators': 346, 'max_depth': 33.91457607156457}. Best is trial 11 with value: 0.20026100411777553.\u001b[0m\n"
     ]
    },
    {
     "name": "stdout",
     "output_type": "stream",
     "text": [
      "[[166  59  19]\n",
      " [  0   2   0]\n",
      " [107  13  31]]\n",
      "0.19156156156156157\n",
      "[[120  28  44]\n",
      " [ 75  25   0]\n",
      " [ 79  21   5]]\n",
      "[[194  61  33]\n",
      " [ 37  12   0]\n",
      " [ 42   2  16]]\n",
      "[[258  73  49]\n",
      " [  9   1   0]\n",
      " [  6   0   1]]\n",
      "[[259  69  50]\n",
      " [  8   5   0]\n",
      " [  6   0   0]]\n"
     ]
    },
    {
     "name": "stderr",
     "output_type": "stream",
     "text": [
      "\u001b[32m[I 2020-11-12 14:21:11,068]\u001b[0m Trial 51 finished with value: 0.20083058741669638 and parameters: {'n_estimators': 369, 'max_depth': 198.49188933100064}. Best is trial 51 with value: 0.20083058741669638.\u001b[0m\n"
     ]
    },
    {
     "name": "stdout",
     "output_type": "stream",
     "text": [
      "[[162  58  18]\n",
      " [  0   3   0]\n",
      " [111  13  32]]\n",
      "0.20083058741669638\n",
      "[[121  28  44]\n",
      " [ 75  25   0]\n",
      " [ 78  21   5]]\n",
      "[[194  61  33]\n",
      " [ 37  12   0]\n",
      " [ 42   2  16]]\n",
      "[[258  73  49]\n",
      " [  9   1   0]\n",
      " [  6   0   1]]\n",
      "[[259  69  50]\n",
      " [  8   5   0]\n",
      " [  6   0   0]]\n"
     ]
    },
    {
     "name": "stderr",
     "output_type": "stream",
     "text": [
      "\u001b[32m[I 2020-11-12 14:21:24,358]\u001b[0m Trial 52 finished with value: 0.20026100411777553 and parameters: {'n_estimators': 377, 'max_depth': 174.0875893637626}. Best is trial 51 with value: 0.20083058741669638.\u001b[0m\n"
     ]
    },
    {
     "name": "stdout",
     "output_type": "stream",
     "text": [
      "[[163  58  19]\n",
      " [  0   3   0]\n",
      " [110  13  31]]\n",
      "0.20026100411777553\n",
      "[[121  28  44]\n",
      " [ 75  25   0]\n",
      " [ 78  21   5]]\n",
      "[[194  61  33]\n",
      " [ 37  12   0]\n",
      " [ 42   2  16]]\n",
      "[[257  73  49]\n",
      " [ 10   1   0]\n",
      " [  6   0   1]]\n",
      "[[259  69  50]\n",
      " [  8   5   0]\n",
      " [  6   0   0]]\n"
     ]
    },
    {
     "name": "stderr",
     "output_type": "stream",
     "text": [
      "\u001b[32m[I 2020-11-12 14:21:37,427]\u001b[0m Trial 53 finished with value: 0.19994551013281822 and parameters: {'n_estimators': 374, 'max_depth': 161.25553599521348}. Best is trial 51 with value: 0.20083058741669638.\u001b[0m\n"
     ]
    },
    {
     "name": "stdout",
     "output_type": "stream",
     "text": [
      "[[163  58  18]\n",
      " [  0   3   0]\n",
      " [110  13  32]]\n",
      "0.19994551013281822\n",
      "[[122  27  45]\n",
      " [ 73  26   0]\n",
      " [ 79  21   4]]\n",
      "[[190  61  33]\n",
      " [ 40  12   0]\n",
      " [ 43   2  16]]\n",
      "[[257  73  49]\n",
      " [ 10   1   0]\n",
      " [  6   0   1]]\n",
      "[[259  70  50]\n",
      " [  8   4   0]\n",
      " [  6   0   0]]\n"
     ]
    },
    {
     "name": "stderr",
     "output_type": "stream",
     "text": [
      "\u001b[32m[I 2020-11-12 14:21:47,980]\u001b[0m Trial 54 finished with value: 0.18724425367101222 and parameters: {'n_estimators': 308, 'max_depth': 100.69244938602661}. Best is trial 51 with value: 0.20083058741669638.\u001b[0m\n"
     ]
    },
    {
     "name": "stdout",
     "output_type": "stream",
     "text": [
      "[[157  58  18]\n",
      " [  0   2   0]\n",
      " [116  14  32]]\n",
      "0.18724425367101222\n",
      "[[123  28  44]\n",
      " [ 74  25   0]\n",
      " [ 77  21   5]]\n",
      "[[193  61  33]\n",
      " [ 38  12   0]\n",
      " [ 42   2  16]]\n",
      "[[258  73  49]\n",
      " [  9   1   0]\n",
      " [  6   0   1]]\n",
      "[[259  70  50]\n",
      " [  8   4   0]\n",
      " [  6   0   0]]\n"
     ]
    },
    {
     "name": "stderr",
     "output_type": "stream",
     "text": [
      "\u001b[32m[I 2020-11-12 14:22:00,141]\u001b[0m Trial 55 finished with value: 0.19089360972296326 and parameters: {'n_estimators': 351, 'max_depth': 125.6816285326002}. Best is trial 51 with value: 0.20083058741669638.\u001b[0m\n"
     ]
    },
    {
     "name": "stdout",
     "output_type": "stream",
     "text": [
      "[[163  59  19]\n",
      " [  0   2   0]\n",
      " [110  13  31]]\n",
      "0.19089360972296326\n",
      "[[121  28  44]\n",
      " [ 75  25   0]\n",
      " [ 78  21   5]]\n",
      "[[194  61  33]\n",
      " [ 37  12   0]\n",
      " [ 42   2  16]]\n",
      "[[257  73  49]\n",
      " [ 10   1   0]\n",
      " [  6   0   1]]\n",
      "[[259  69  50]\n",
      " [  8   5   0]\n",
      " [  6   0   0]]\n"
     ]
    },
    {
     "name": "stderr",
     "output_type": "stream",
     "text": [
      "\u001b[32m[I 2020-11-12 14:22:13,343]\u001b[0m Trial 56 finished with value: 0.19840900826194807 and parameters: {'n_estimators': 386, 'max_depth': 166.78452595759296}. Best is trial 51 with value: 0.20083058741669638.\u001b[0m\n"
     ]
    },
    {
     "name": "stdout",
     "output_type": "stream",
     "text": [
      "[[161  58  19]\n",
      " [  0   3   0]\n",
      " [112  13  31]]\n",
      "0.19840900826194807\n",
      "[[128  27  42]\n",
      " [ 70  26   0]\n",
      " [ 76  21   7]]\n",
      "[[195  61  33]\n",
      " [ 36  12   0]\n",
      " [ 42   2  16]]\n",
      "[[258  73  49]\n",
      " [  9   1   0]\n",
      " [  6   0   1]]\n",
      "[[259  70  50]\n",
      " [  8   4   0]\n",
      " [  6   0   0]]\n"
     ]
    },
    {
     "name": "stderr",
     "output_type": "stream",
     "text": [
      "\u001b[32m[I 2020-11-12 14:22:21,354]\u001b[0m Trial 57 finished with value: 0.19486392462151172 and parameters: {'n_estimators': 233, 'max_depth': 196.5889621567128}. Best is trial 51 with value: 0.20083058741669638.\u001b[0m\n"
     ]
    },
    {
     "name": "stdout",
     "output_type": "stream",
     "text": [
      "[[162  59  19]\n",
      " [  0   2   0]\n",
      " [111  13  31]]\n",
      "0.19486392462151172\n",
      "[[124  28  45]\n",
      " [ 72  25   0]\n",
      " [ 78  21   4]]\n",
      "[[192  61  33]\n",
      " [ 38  12   0]\n",
      " [ 43   2  16]]\n",
      "[[257  73  49]\n",
      " [ 10   1   0]\n",
      " [  6   0   1]]\n",
      "[[259  69  50]\n",
      " [  8   5   0]\n",
      " [  6   0   0]]\n"
     ]
    },
    {
     "name": "stderr",
     "output_type": "stream",
     "text": [
      "\u001b[32m[I 2020-11-12 14:22:32,731]\u001b[0m Trial 58 finished with value: 0.19707154721752534 and parameters: {'n_estimators': 327, 'max_depth': 58.043433646755915}. Best is trial 51 with value: 0.20083058741669638.\u001b[0m\n"
     ]
    },
    {
     "name": "stdout",
     "output_type": "stream",
     "text": [
      "[[162  58  18]\n",
      " [  0   2   0]\n",
      " [111  14  32]]\n",
      "0.19707154721752534\n",
      "[[121  28  43]\n",
      " [ 76  25   0]\n",
      " [ 77  21   6]]\n",
      "[[192  61  33]\n",
      " [ 39  12   0]\n",
      " [ 42   2  16]]\n",
      "[[257  73  49]\n",
      " [ 10   1   0]\n",
      " [  6   0   1]]\n",
      "[[259  70  50]\n",
      " [  8   4   0]\n",
      " [  6   0   0]]\n"
     ]
    },
    {
     "name": "stderr",
     "output_type": "stream",
     "text": [
      "\u001b[32m[I 2020-11-12 14:22:47,333]\u001b[0m Trial 59 finished with value: 0.19166481702449595 and parameters: {'n_estimators': 428, 'max_depth': 133.03253749568356}. Best is trial 51 with value: 0.20083058741669638.\u001b[0m\n"
     ]
    },
    {
     "name": "stdout",
     "output_type": "stream",
     "text": [
      "[[163  59  17]\n",
      " [  0   2   0]\n",
      " [110  13  33]]\n",
      "0.19166481702449595\n",
      "[[120  30  45]\n",
      " [ 74  23   0]\n",
      " [ 80  21   4]]\n",
      "[[195  62  34]\n",
      " [ 37  11   1]\n",
      " [ 41   2  14]]\n",
      "[[262  73  50]\n",
      " [  8   1   0]\n",
      " [  3   0   0]]\n",
      "[[260  69  50]\n",
      " [  8   5   0]\n",
      " [  5   0   0]]\n"
     ]
    },
    {
     "name": "stderr",
     "output_type": "stream",
     "text": [
      "\u001b[32m[I 2020-11-12 14:22:59,776]\u001b[0m Trial 60 finished with value: 0.18987470681030366 and parameters: {'n_estimators': 364, 'max_depth': 19.31933182865618}. Best is trial 51 with value: 0.20083058741669638.\u001b[0m\n"
     ]
    },
    {
     "name": "stdout",
     "output_type": "stream",
     "text": [
      "[[163  57  17]\n",
      " [  0   2   0]\n",
      " [110  15  33]]\n",
      "0.18987470681030366\n",
      "[[121  28  44]\n",
      " [ 75  25   0]\n",
      " [ 78  21   5]]\n",
      "[[194  61  33]\n",
      " [ 37  12   0]\n",
      " [ 42   2  16]]\n",
      "[[257  73  49]\n",
      " [ 10   1   0]\n",
      " [  6   0   1]]\n",
      "[[259  69  50]\n",
      " [  8   5   0]\n",
      " [  6   0   0]]\n"
     ]
    },
    {
     "name": "stderr",
     "output_type": "stream",
     "text": [
      "\u001b[32m[I 2020-11-12 14:23:13,026]\u001b[0m Trial 61 finished with value: 0.19895381457529182 and parameters: {'n_estimators': 378, 'max_depth': 164.41355960604227}. Best is trial 51 with value: 0.20083058741669638.\u001b[0m\n"
     ]
    },
    {
     "name": "stdout",
     "output_type": "stream",
     "text": [
      "[[163  58  19]\n",
      " [  0   3   0]\n",
      " [110  13  31]]\n",
      "0.19895381457529182\n",
      "[[119  28  44]\n",
      " [ 76  25   0]\n",
      " [ 79  21   5]]\n",
      "[[194  61  33]\n",
      " [ 37  12   0]\n",
      " [ 42   2  16]]\n",
      "[[258  73  49]\n",
      " [  9   1   0]\n",
      " [  6   0   1]]\n",
      "[[259  69  50]\n",
      " [  8   5   0]\n",
      " [  6   0   0]]\n"
     ]
    },
    {
     "name": "stderr",
     "output_type": "stream",
     "text": [
      "\u001b[32m[I 2020-11-12 14:23:26,041]\u001b[0m Trial 62 finished with value: 0.20166335109329814 and parameters: {'n_estimators': 371, 'max_depth': 105.032192620062}. Best is trial 62 with value: 0.20166335109329814.\u001b[0m\n"
     ]
    },
    {
     "name": "stdout",
     "output_type": "stream",
     "text": [
      "[[162  58  17]\n",
      " [  0   3   0]\n",
      " [111  13  33]]\n",
      "0.20166335109329814\n",
      "[[122  28  44]\n",
      " [ 74  25   0]\n",
      " [ 78  21   5]]\n",
      "[[193  61  33]\n",
      " [ 38  12   0]\n",
      " [ 42   2  16]]\n",
      "[[257  73  49]\n",
      " [ 10   1   0]\n",
      " [  6   0   1]]\n",
      "[[259  69  50]\n",
      " [  8   5   0]\n",
      " [  6   0   0]]\n"
     ]
    },
    {
     "name": "stderr",
     "output_type": "stream",
     "text": [
      "\u001b[32m[I 2020-11-12 14:23:39,750]\u001b[0m Trial 63 finished with value: 0.19863164423581497 and parameters: {'n_estimators': 394, 'max_depth': 95.91385662572061}. Best is trial 62 with value: 0.20166335109329814.\u001b[0m\n"
     ]
    },
    {
     "name": "stdout",
     "output_type": "stream",
     "text": [
      "[[163  58  19]\n",
      " [  0   3   0]\n",
      " [110  13  31]]\n",
      "0.19863164423581497\n",
      "[[123  28  44]\n",
      " [ 73  25   0]\n",
      " [ 78  21   5]]\n",
      "[[192  61  33]\n",
      " [ 38  12   0]\n",
      " [ 43   2  16]]\n",
      "[[258  73  49]\n",
      " [  9   1   0]\n",
      " [  6   0   1]]\n",
      "[[259  70  50]\n",
      " [  8   4   0]\n",
      " [  6   0   0]]\n"
     ]
    },
    {
     "name": "stderr",
     "output_type": "stream",
     "text": [
      "\u001b[32m[I 2020-11-12 14:23:51,741]\u001b[0m Trial 64 finished with value: 0.19126453185859127 and parameters: {'n_estimators': 337, 'max_depth': 81.06780223871887}. Best is trial 62 with value: 0.20166335109329814.\u001b[0m\n"
     ]
    },
    {
     "name": "stdout",
     "output_type": "stream",
     "text": [
      "[[166  59  19]\n",
      " [  0   2   0]\n",
      " [107  13  31]]\n",
      "0.19126453185859127\n",
      "[[123  27  45]\n",
      " [ 72  26   0]\n",
      " [ 79  21   4]]\n",
      "[[193  61  33]\n",
      " [ 38  12   0]\n",
      " [ 42   2  16]]\n",
      "[[257  73  49]\n",
      " [ 10   1   0]\n",
      " [  6   0   1]]\n",
      "[[259  70  50]\n",
      " [  8   4   0]\n",
      " [  6   0   0]]\n"
     ]
    },
    {
     "name": "stderr",
     "output_type": "stream",
     "text": [
      "\u001b[32m[I 2020-11-12 14:24:01,781]\u001b[0m Trial 65 finished with value: 0.18905087977152146 and parameters: {'n_estimators': 293, 'max_depth': 114.27544516937351}. Best is trial 62 with value: 0.20166335109329814.\u001b[0m\n"
     ]
    },
    {
     "name": "stdout",
     "output_type": "stream",
     "text": [
      "[[162  58  19]\n",
      " [  0   2   0]\n",
      " [111  14  31]]\n",
      "0.18905087977152146\n",
      "[[126  27  44]\n",
      " [ 69  26   0]\n",
      " [ 79  21   5]]\n",
      "[[193  61  33]\n",
      " [ 38  12   0]\n",
      " [ 42   2  16]]\n",
      "[[257  73  49]\n",
      " [ 10   1   0]\n",
      " [  6   0   1]]\n",
      "[[259  70  50]\n",
      " [  8   4   0]\n",
      " [  6   0   0]]\n"
     ]
    },
    {
     "name": "stderr",
     "output_type": "stream",
     "text": [
      "\u001b[32m[I 2020-11-12 14:24:10,933]\u001b[0m Trial 66 finished with value: 0.19055106621773285 and parameters: {'n_estimators': 265, 'max_depth': 51.48197714316685}. Best is trial 62 with value: 0.20166335109329814.\u001b[0m\n"
     ]
    },
    {
     "name": "stdout",
     "output_type": "stream",
     "text": [
      "[[158  59  18]\n",
      " [  0   2   0]\n",
      " [115  13  32]]\n",
      "0.19055106621773285\n",
      "[[122  28  43]\n",
      " [ 75  25   0]\n",
      " [ 77  21   6]]\n",
      "[[192  61  33]\n",
      " [ 39  12   0]\n",
      " [ 42   2  16]]\n",
      "[[259  73  49]\n",
      " [  9   1   0]\n",
      " [  5   0   1]]\n",
      "[[259  70  50]\n",
      " [  8   4   0]\n",
      " [  6   0   0]]\n"
     ]
    },
    {
     "name": "stderr",
     "output_type": "stream",
     "text": [
      "\u001b[32m[I 2020-11-12 14:24:26,151]\u001b[0m Trial 67 finished with value: 0.1933250264411843 and parameters: {'n_estimators': 437, 'max_depth': 135.94900531953874}. Best is trial 62 with value: 0.20166335109329814.\u001b[0m\n"
     ]
    },
    {
     "name": "stdout",
     "output_type": "stream",
     "text": [
      "[[163  58  18]\n",
      " [  0   2   0]\n",
      " [110  14  32]]\n",
      "0.1933250264411843\n",
      "[[122  29  43]\n",
      " [ 75  24   0]\n",
      " [ 77  21   6]]\n",
      "[[189  61  33]\n",
      " [ 42  12   0]\n",
      " [ 42   2  16]]\n",
      "[[259  73  49]\n",
      " [  9   1   0]\n",
      " [  5   0   1]]\n",
      "[[259  70  50]\n",
      " [  8   4   0]\n",
      " [  6   0   0]]\n"
     ]
    },
    {
     "name": "stderr",
     "output_type": "stream",
     "text": [
      "\u001b[32m[I 2020-11-12 14:24:41,862]\u001b[0m Trial 68 finished with value: 0.1913337782515036 and parameters: {'n_estimators': 456, 'max_depth': 198.0267680083362}. Best is trial 62 with value: 0.20166335109329814.\u001b[0m\n"
     ]
    },
    {
     "name": "stdout",
     "output_type": "stream",
     "text": [
      "[[161  57  17]\n",
      " [  0   2   0]\n",
      " [112  15  33]]\n",
      "0.1913337782515036\n",
      "[[124  28  45]\n",
      " [ 72  25   0]\n",
      " [ 78  21   4]]\n",
      "[[192  61  33]\n",
      " [ 38  12   0]\n",
      " [ 43   2  16]]\n",
      "[[256  73  49]\n",
      " [ 11   1   0]\n",
      " [  6   0   1]]\n",
      "[[259  69  50]\n",
      " [  8   5   0]\n",
      " [  6   0   0]]\n"
     ]
    },
    {
     "name": "stderr",
     "output_type": "stream",
     "text": [
      "\u001b[32m[I 2020-11-12 14:24:52,845]\u001b[0m Trial 69 finished with value: 0.1959019565742505 and parameters: {'n_estimators': 321, 'max_depth': 173.8633997229816}. Best is trial 62 with value: 0.20166335109329814.\u001b[0m\n"
     ]
    },
    {
     "name": "stdout",
     "output_type": "stream",
     "text": [
      "[[162  58  18]\n",
      " [  0   2   0]\n",
      " [111  14  32]]\n",
      "0.1959019565742505\n",
      "[[198  61  34]\n",
      " [ 46  10  12]\n",
      " [ 30   3   3]]\n",
      "[[186  59  23]\n",
      " [ 78  15  23]\n",
      " [  9   1   3]]\n",
      "[[239  70  46]\n",
      " [ 30   3   4]\n",
      " [  4   1   0]]\n"
     ]
    },
    {
     "name": "stderr",
     "output_type": "stream",
     "text": [
      "\u001b[32m[I 2020-11-12 14:24:53,508]\u001b[0m Trial 70 finished with value: 0.16520122588054045 and parameters: {'n_estimators': 2, 'max_depth': 113.09505253288745}. Best is trial 62 with value: 0.20166335109329814.\u001b[0m\n"
     ]
    },
    {
     "name": "stdout",
     "output_type": "stream",
     "text": [
      "[[262  66  50]\n",
      " [  7   7   0]\n",
      " [  4   1   0]]\n",
      "[[219  62  42]\n",
      " [ 10   3   2]\n",
      " [ 44   9   6]]\n",
      "0.16520122588054045\n",
      "[[120  28  44]\n",
      " [ 76  25   0]\n",
      " [ 78  21   5]]\n",
      "[[194  61  33]\n",
      " [ 37  12   0]\n",
      " [ 42   2  16]]\n",
      "[[259  73  49]\n",
      " [  8   1   0]\n",
      " [  6   0   1]]\n",
      "[[259  69  50]\n",
      " [  8   5   0]\n",
      " [  6   0   0]]\n"
     ]
    },
    {
     "name": "stderr",
     "output_type": "stream",
     "text": [
      "\u001b[32m[I 2020-11-12 14:25:06,572]\u001b[0m Trial 71 finished with value: 0.20257981588764054 and parameters: {'n_estimators': 372, 'max_depth': 155.3397441414988}. Best is trial 71 with value: 0.20257981588764054.\u001b[0m\n"
     ]
    },
    {
     "name": "stdout",
     "output_type": "stream",
     "text": [
      "[[163  58  18]\n",
      " [  0   3   0]\n",
      " [110  13  32]]\n",
      "0.20257981588764054\n",
      "[[121  28  44]\n",
      " [ 77  25   0]\n",
      " [ 76  21   5]]\n",
      "[[193  61  33]\n",
      " [ 38  12   0]\n",
      " [ 42   2  16]]\n",
      "[[257  73  49]\n",
      " [ 10   1   0]\n",
      " [  6   0   1]]\n",
      "[[259  70  50]\n",
      " [  8   4   0]\n",
      " [  6   0   0]]\n"
     ]
    },
    {
     "name": "stderr",
     "output_type": "stream",
     "text": [
      "\u001b[32m[I 2020-11-12 14:25:20,909]\u001b[0m Trial 72 finished with value: 0.19157350954278646 and parameters: {'n_estimators': 410, 'max_depth': 136.33755783763291}. Best is trial 71 with value: 0.20257981588764054.\u001b[0m\n"
     ]
    },
    {
     "name": "stdout",
     "output_type": "stream",
     "text": [
      "[[164  58  18]\n",
      " [  0   3   0]\n",
      " [109  13  32]]\n",
      "0.19157350954278646\n",
      "[[122  28  44]\n",
      " [ 75  25   0]\n",
      " [ 77  21   5]]\n",
      "[[193  61  33]\n",
      " [ 38  12   0]\n",
      " [ 42   2  16]]\n",
      "[[258  73  49]\n",
      " [  9   1   0]\n",
      " [  6   0   1]]\n",
      "[[259  70  50]\n",
      " [  8   4   0]\n",
      " [  6   0   0]]\n"
     ]
    },
    {
     "name": "stderr",
     "output_type": "stream",
     "text": [
      "\u001b[32m[I 2020-11-12 14:25:33,203]\u001b[0m Trial 73 finished with value: 0.1904778139250562 and parameters: {'n_estimators': 353, 'max_depth': 92.15135804599998}. Best is trial 71 with value: 0.20257981588764054.\u001b[0m\n"
     ]
    },
    {
     "name": "stdout",
     "output_type": "stream",
     "text": [
      "[[163  58  19]\n",
      " [  0   2   0]\n",
      " [110  14  31]]\n",
      "0.1904778139250562\n",
      "[[121  28  44]\n",
      " [ 75  25   0]\n",
      " [ 78  21   5]]\n",
      "[[193  61  33]\n",
      " [ 38  12   0]\n",
      " [ 42   2  16]]\n",
      "[[257  73  49]\n",
      " [ 10   1   0]\n",
      " [  6   0   1]]\n",
      "[[259  69  50]\n",
      " [  8   5   0]\n",
      " [  6   0   0]]\n"
     ]
    },
    {
     "name": "stderr",
     "output_type": "stream",
     "text": [
      "\u001b[32m[I 2020-11-12 14:25:46,667]\u001b[0m Trial 74 finished with value: 0.19848675869539192 and parameters: {'n_estimators': 392, 'max_depth': 172.5135828604303}. Best is trial 71 with value: 0.20257981588764054.\u001b[0m\n"
     ]
    },
    {
     "name": "stdout",
     "output_type": "stream",
     "text": [
      "[[163  58  19]\n",
      " [  0   3   0]\n",
      " [110  13  31]]\n",
      "0.19848675869539192\n",
      "[[120  28  44]\n",
      " [ 75  25   0]\n",
      " [ 79  21   5]]\n",
      "[[194  61  33]\n",
      " [ 37  12   0]\n",
      " [ 42   2  16]]\n",
      "[[258  73  49]\n",
      " [  9   1   0]\n",
      " [  6   0   1]]\n",
      "[[259  69  50]\n",
      " [  8   5   0]\n",
      " [  6   0   0]]\n"
     ]
    },
    {
     "name": "stderr",
     "output_type": "stream",
     "text": [
      "\u001b[32m[I 2020-11-12 14:25:59,490]\u001b[0m Trial 75 finished with value: 0.20110922765234643 and parameters: {'n_estimators': 368, 'max_depth': 120.80943221134834}. Best is trial 71 with value: 0.20257981588764054.\u001b[0m\n"
     ]
    },
    {
     "name": "stdout",
     "output_type": "stream",
     "text": [
      "[[163  58  18]\n",
      " [  0   3   0]\n",
      " [110  13  32]]\n",
      "0.20110922765234643\n",
      "[[119  28  44]\n",
      " [ 76  25   0]\n",
      " [ 79  21   5]]\n",
      "[[194  61  33]\n",
      " [ 37  12   0]\n",
      " [ 42   2  16]]\n",
      "[[258  73  49]\n",
      " [  9   1   0]\n",
      " [  6   0   1]]\n",
      "[[259  69  50]\n",
      " [  8   5   0]\n",
      " [  6   0   0]]\n"
     ]
    },
    {
     "name": "stderr",
     "output_type": "stream",
     "text": [
      "\u001b[32m[I 2020-11-12 14:26:12,449]\u001b[0m Trial 76 finished with value: 0.20166335109329814 and parameters: {'n_estimators': 371, 'max_depth': 146.93045512847195}. Best is trial 71 with value: 0.20257981588764054.\u001b[0m\n"
     ]
    },
    {
     "name": "stdout",
     "output_type": "stream",
     "text": [
      "[[162  58  17]\n",
      " [  0   3   0]\n",
      " [111  13  33]]\n",
      "0.20166335109329814\n",
      "[[121  28  44]\n",
      " [ 75  25   0]\n",
      " [ 78  21   5]]\n",
      "[[194  61  33]\n",
      " [ 37  12   0]\n",
      " [ 42   2  16]]\n",
      "[[258  73  49]\n",
      " [  9   1   0]\n",
      " [  6   0   1]]\n",
      "[[259  69  50]\n",
      " [  8   5   0]\n",
      " [  6   0   0]]\n"
     ]
    },
    {
     "name": "stderr",
     "output_type": "stream",
     "text": [
      "\u001b[32m[I 2020-11-12 14:26:25,151]\u001b[0m Trial 77 finished with value: 0.2009740594396519 and parameters: {'n_estimators': 365, 'max_depth': 148.031984026249}. Best is trial 71 with value: 0.20257981588764054.\u001b[0m\n"
     ]
    },
    {
     "name": "stdout",
     "output_type": "stream",
     "text": [
      "[[162  58  18]\n",
      " [  0   3   0]\n",
      " [111  13  32]]\n",
      "0.2009740594396519\n",
      "[[123  28  45]\n",
      " [ 73  25   0]\n",
      " [ 78  21   4]]\n",
      "[[191  61  33]\n",
      " [ 39  12   0]\n",
      " [ 43   2  16]]\n",
      "[[258  73  49]\n",
      " [  9   1   0]\n",
      " [  6   0   1]]\n",
      "[[259  70  50]\n",
      " [  8   4   0]\n",
      " [  6   0   0]]\n"
     ]
    },
    {
     "name": "stderr",
     "output_type": "stream",
     "text": [
      "\u001b[32m[I 2020-11-12 14:26:37,024]\u001b[0m Trial 78 finished with value: 0.18996683250414595 and parameters: {'n_estimators': 336, 'max_depth': 70.08291847672022}. Best is trial 71 with value: 0.20257981588764054.\u001b[0m\n"
     ]
    },
    {
     "name": "stdout",
     "output_type": "stream",
     "text": [
      "[[166  59  19]\n",
      " [  0   2   0]\n",
      " [107  13  31]]\n",
      "0.18996683250414595\n",
      "[[121  28  45]\n",
      " [ 75  25   0]\n",
      " [ 78  21   4]]\n",
      "[[193  61  33]\n",
      " [ 38  12   0]\n",
      " [ 42   2  16]]\n",
      "[[258  73  49]\n",
      " [  9   1   0]\n",
      " [  6   0   1]]\n",
      "[[259  69  50]\n",
      " [  8   5   0]\n",
      " [  6   0   0]]\n"
     ]
    },
    {
     "name": "stderr",
     "output_type": "stream",
     "text": [
      "\u001b[32m[I 2020-11-12 14:26:49,504]\u001b[0m Trial 79 finished with value: 0.1989536121034218 and parameters: {'n_estimators': 361, 'max_depth': 121.15164080532765}. Best is trial 71 with value: 0.20257981588764054.\u001b[0m\n"
     ]
    },
    {
     "name": "stdout",
     "output_type": "stream",
     "text": [
      "[[163  58  19]\n",
      " [  0   3   0]\n",
      " [110  13  31]]\n",
      "0.1989536121034218\n",
      "[[274  74  49]\n",
      " [  0   0   0]\n",
      " [  0   0   0]]\n",
      "[[273  75  49]\n",
      " [  0   0   0]\n",
      " [  0   0   0]]\n",
      "[[273  74  50]\n",
      " [  0   0   0]\n",
      " [  0   0   0]]\n",
      "[[273  74  50]\n",
      " [  0   0   0]\n",
      " [  0   0   0]]\n"
     ]
    },
    {
     "name": "stderr",
     "output_type": "stream",
     "text": [
      "\u001b[32m[I 2020-11-12 14:26:55,239]\u001b[0m Trial 80 finished with value: 0.0 and parameters: {'n_estimators': 413, 'max_depth': 1.5308827932126567}. Best is trial 71 with value: 0.20257981588764054.\u001b[0m\n"
     ]
    },
    {
     "name": "stdout",
     "output_type": "stream",
     "text": [
      "[[273  74  50]\n",
      " [  0   0   0]\n",
      " [  0   0   0]]\n",
      "0.0\n",
      "[[119  28  44]\n",
      " [ 76  25   0]\n",
      " [ 79  21   5]]\n",
      "[[194  61  33]\n",
      " [ 37  12   0]\n",
      " [ 42   2  16]]\n",
      "[[258  73  49]\n",
      " [  9   1   0]\n",
      " [  6   0   1]]\n",
      "[[259  69  50]\n",
      " [  8   5   0]\n",
      " [  6   0   0]]\n"
     ]
    },
    {
     "name": "stderr",
     "output_type": "stream",
     "text": [
      "\u001b[32m[I 2020-11-12 14:27:08,141]\u001b[0m Trial 81 finished with value: 0.20166335109329814 and parameters: {'n_estimators': 371, 'max_depth': 150.1251583050939}. Best is trial 71 with value: 0.20257981588764054.\u001b[0m\n"
     ]
    },
    {
     "name": "stdout",
     "output_type": "stream",
     "text": [
      "[[162  58  17]\n",
      " [  0   3   0]\n",
      " [111  13  33]]\n",
      "0.20166335109329814\n",
      "[[119  28  44]\n",
      " [ 76  25   0]\n",
      " [ 79  21   5]]\n",
      "[[194  61  33]\n",
      " [ 37  12   0]\n",
      " [ 42   2  16]]\n",
      "[[258  73  49]\n",
      " [  9   1   0]\n",
      " [  6   0   1]]\n",
      "[[259  69  50]\n",
      " [  8   5   0]\n",
      " [  6   0   0]]\n"
     ]
    },
    {
     "name": "stderr",
     "output_type": "stream",
     "text": [
      "\u001b[32m[I 2020-11-12 14:27:21,049]\u001b[0m Trial 82 finished with value: 0.20166335109329814 and parameters: {'n_estimators': 371, 'max_depth': 146.54855570132207}. Best is trial 71 with value: 0.20257981588764054.\u001b[0m\n"
     ]
    },
    {
     "name": "stdout",
     "output_type": "stream",
     "text": [
      "[[162  58  17]\n",
      " [  0   3   0]\n",
      " [111  13  33]]\n",
      "0.20166335109329814\n",
      "[[124  28  44]\n",
      " [ 74  25   0]\n",
      " [ 76  21   5]]\n",
      "[[192  61  33]\n",
      " [ 39  12   0]\n",
      " [ 42   2  16]]\n",
      "[[258  73  49]\n",
      " [  9   1   0]\n",
      " [  6   0   1]]\n",
      "[[259  70  50]\n",
      " [  8   4   0]\n",
      " [  6   0   0]]\n"
     ]
    },
    {
     "name": "stderr",
     "output_type": "stream",
     "text": [
      "\u001b[32m[I 2020-11-12 14:27:33,272]\u001b[0m Trial 83 finished with value: 0.1918647965180011 and parameters: {'n_estimators': 343, 'max_depth': 145.06579716148713}. Best is trial 71 with value: 0.20257981588764054.\u001b[0m\n"
     ]
    },
    {
     "name": "stdout",
     "output_type": "stream",
     "text": [
      "[[164  59  18]\n",
      " [  0   2   0]\n",
      " [109  13  32]]\n",
      "0.1918647965180011\n",
      "[[121  28  45]\n",
      " [ 75  25   0]\n",
      " [ 78  21   4]]\n",
      "[[193  61  33]\n",
      " [ 38  12   0]\n",
      " [ 42   2  16]]\n",
      "[[258  73  49]\n",
      " [  9   1   0]\n",
      " [  6   0   1]]\n",
      "[[259  69  50]\n",
      " [  8   5   0]\n",
      " [  6   0   0]]\n"
     ]
    },
    {
     "name": "stderr",
     "output_type": "stream",
     "text": [
      "\u001b[32m[I 2020-11-12 14:27:45,804]\u001b[0m Trial 84 finished with value: 0.1989536121034218 and parameters: {'n_estimators': 361, 'max_depth': 108.3312599850632}. Best is trial 71 with value: 0.20257981588764054.\u001b[0m\n"
     ]
    },
    {
     "name": "stdout",
     "output_type": "stream",
     "text": [
      "[[163  58  19]\n",
      " [  0   3   0]\n",
      " [110  13  31]]\n",
      "0.1989536121034218\n",
      "[[123  28  45]\n",
      " [ 73  25   0]\n",
      " [ 78  21   4]]\n",
      "[[191  61  33]\n",
      " [ 39  12   0]\n",
      " [ 43   2  16]]\n",
      "[[256  73  49]\n",
      " [ 11   1   0]\n",
      " [  6   0   1]]\n",
      "[[259  69  50]\n",
      " [  8   5   0]\n",
      " [  6   0   0]]\n"
     ]
    },
    {
     "name": "stderr",
     "output_type": "stream",
     "text": [
      "\u001b[32m[I 2020-11-12 14:27:56,859]\u001b[0m Trial 85 finished with value: 0.1950399319193506 and parameters: {'n_estimators': 314, 'max_depth': 151.1473661686092}. Best is trial 71 with value: 0.20257981588764054.\u001b[0m\n"
     ]
    },
    {
     "name": "stdout",
     "output_type": "stream",
     "text": [
      "[[161  58  18]\n",
      " [  0   2   0]\n",
      " [112  14  32]]\n",
      "0.1950399319193506\n",
      "[[120  28  44]\n",
      " [ 75  25   0]\n",
      " [ 79  21   5]]\n",
      "[[194  61  33]\n",
      " [ 37  12   0]\n",
      " [ 42   2  16]]\n",
      "[[257  73  49]\n",
      " [ 10   1   0]\n",
      " [  6   0   1]]\n",
      "[[259  69  50]\n",
      " [  8   5   0]\n",
      " [  6   0   0]]\n"
     ]
    },
    {
     "name": "stderr",
     "output_type": "stream",
     "text": [
      "\u001b[32m[I 2020-11-12 14:28:09,825]\u001b[0m Trial 86 finished with value: 0.20049824064150829 and parameters: {'n_estimators': 370, 'max_depth': 97.21488904893309}. Best is trial 71 with value: 0.20257981588764054.\u001b[0m\n"
     ]
    },
    {
     "name": "stdout",
     "output_type": "stream",
     "text": [
      "[[162  58  17]\n",
      " [  0   3   0]\n",
      " [111  13  33]]\n",
      "0.20049824064150829\n",
      "[[120  28  44]\n",
      " [ 74  25   0]\n",
      " [ 80  21   5]]\n",
      "[[193  61  33]\n",
      " [ 38  12   0]\n",
      " [ 42   2  16]]\n",
      "[[257  73  49]\n",
      " [ 10   1   0]\n",
      " [  6   0   1]]\n",
      "[[259  69  50]\n",
      " [  8   5   0]\n",
      " [  6   0   0]]\n"
     ]
    },
    {
     "name": "stderr",
     "output_type": "stream",
     "text": [
      "\u001b[32m[I 2020-11-12 14:28:23,234]\u001b[0m Trial 87 finished with value: 0.19779848035909264 and parameters: {'n_estimators': 388, 'max_depth': 80.52221404366679}. Best is trial 71 with value: 0.20257981588764054.\u001b[0m\n"
     ]
    },
    {
     "name": "stdout",
     "output_type": "stream",
     "text": [
      "[[161  58  19]\n",
      " [  0   3   0]\n",
      " [112  13  31]]\n",
      "0.19779848035909264\n",
      "[[120  28  44]\n",
      " [ 75  25   0]\n",
      " [ 79  21   5]]\n",
      "[[194  61  33]\n",
      " [ 37  12   0]\n",
      " [ 42   2  16]]\n",
      "[[258  73  49]\n",
      " [  9   1   0]\n",
      " [  6   0   1]]\n",
      "[[259  69  50]\n",
      " [  8   5   0]\n",
      " [  6   0   0]]\n"
     ]
    },
    {
     "name": "stderr",
     "output_type": "stream",
     "text": [
      "\u001b[32m[I 2020-11-12 14:28:36,164]\u001b[0m Trial 88 finished with value: 0.20110922765234643 and parameters: {'n_estimators': 368, 'max_depth': 100.72591565066739}. Best is trial 71 with value: 0.20257981588764054.\u001b[0m\n"
     ]
    },
    {
     "name": "stdout",
     "output_type": "stream",
     "text": [
      "[[163  58  18]\n",
      " [  0   3   0]\n",
      " [110  13  32]]\n",
      "0.20110922765234643\n",
      "[[124  28  44]\n",
      " [ 73  25   0]\n",
      " [ 77  21   5]]\n",
      "[[192  61  33]\n",
      " [ 38  12   0]\n",
      " [ 43   2  16]]\n",
      "[[257  73  49]\n",
      " [ 10   1   0]\n",
      " [  6   0   1]]\n",
      "[[259  69  50]\n",
      " [  8   5   0]\n",
      " [  6   0   0]]\n"
     ]
    },
    {
     "name": "stderr",
     "output_type": "stream",
     "text": [
      "\u001b[32m[I 2020-11-12 14:28:47,696]\u001b[0m Trial 89 finished with value: 0.19819297257224208 and parameters: {'n_estimators': 330, 'max_depth': 125.06929363414042}. Best is trial 71 with value: 0.20257981588764054.\u001b[0m\n"
     ]
    },
    {
     "name": "stdout",
     "output_type": "stream",
     "text": [
      "[[163  58  18]\n",
      " [  0   2   0]\n",
      " [110  14  32]]\n",
      "0.19819297257224208\n",
      "[[151  34  44]\n",
      " [ 57  23   0]\n",
      " [ 66  17   5]]\n",
      "[[174  59  31]\n",
      " [ 52  13   3]\n",
      " [ 47   3  15]]\n",
      "[[255  73  48]\n",
      " [ 13   1   1]\n",
      " [  5   0   1]]\n",
      "[[259  69  50]\n",
      " [ 10   5   0]\n",
      " [  4   0   0]]\n"
     ]
    },
    {
     "name": "stderr",
     "output_type": "stream",
     "text": [
      "\u001b[32m[I 2020-11-12 14:28:49,802]\u001b[0m Trial 90 finished with value: 0.19125572552069828 and parameters: {'n_estimators': 44, 'max_depth': 76.1368219597411}. Best is trial 71 with value: 0.20257981588764054.\u001b[0m\n"
     ]
    },
    {
     "name": "stdout",
     "output_type": "stream",
     "text": [
      "[[169  62  21]\n",
      " [  9   3   0]\n",
      " [ 95   9  29]]\n",
      "0.19125572552069828\n",
      "[[120  28  44]\n",
      " [ 75  25   0]\n",
      " [ 79  21   5]]\n",
      "[[194  61  33]\n",
      " [ 37  12   0]\n",
      " [ 42   2  16]]\n",
      "[[257  73  49]\n",
      " [ 10   1   0]\n",
      " [  6   0   1]]\n",
      "[[259  69  50]\n",
      " [  8   5   0]\n",
      " [  6   0   0]]\n"
     ]
    },
    {
     "name": "stderr",
     "output_type": "stream",
     "text": [
      "\u001b[32m[I 2020-11-12 14:29:02,847]\u001b[0m Trial 91 finished with value: 0.20049824064150829 and parameters: {'n_estimators': 370, 'max_depth': 101.58032074885013}. Best is trial 71 with value: 0.20257981588764054.\u001b[0m\n"
     ]
    },
    {
     "name": "stdout",
     "output_type": "stream",
     "text": [
      "[[162  58  17]\n",
      " [  0   3   0]\n",
      " [111  13  33]]\n",
      "0.20049824064150829\n",
      "[[125  28  44]\n",
      " [ 74  25   0]\n",
      " [ 75  21   5]]\n",
      "[[193  61  33]\n",
      " [ 38  12   0]\n",
      " [ 42   2  16]]\n",
      "[[258  73  49]\n",
      " [  9   1   0]\n",
      " [  6   0   1]]\n",
      "[[259  70  50]\n",
      " [  8   4   0]\n",
      " [  6   0   0]]\n"
     ]
    },
    {
     "name": "stderr",
     "output_type": "stream",
     "text": [
      "\u001b[32m[I 2020-11-12 14:29:15,167]\u001b[0m Trial 92 finished with value: 0.19275391486017673 and parameters: {'n_estimators': 345, 'max_depth': 102.30475941316875}. Best is trial 71 with value: 0.20257981588764054.\u001b[0m\n"
     ]
    },
    {
     "name": "stdout",
     "output_type": "stream",
     "text": [
      "[[165  59  18]\n",
      " [  0   2   0]\n",
      " [108  13  32]]\n",
      "0.19275391486017673\n",
      "[[123  27  45]\n",
      " [ 73  26   0]\n",
      " [ 78  21   4]]\n",
      "[[191  61  33]\n",
      " [ 39  12   0]\n",
      " [ 43   2  16]]\n",
      "[[257  73  49]\n",
      " [ 10   1   0]\n",
      " [  6   0   1]]\n",
      "[[259  70  50]\n",
      " [  8   4   0]\n",
      " [  6   0   0]]\n"
     ]
    },
    {
     "name": "stderr",
     "output_type": "stream",
     "text": [
      "\u001b[32m[I 2020-11-12 14:29:25,294]\u001b[0m Trial 93 finished with value: 0.1887938793879388 and parameters: {'n_estimators': 298, 'max_depth': 125.26647412192207}. Best is trial 71 with value: 0.20257981588764054.\u001b[0m\n"
     ]
    },
    {
     "name": "stdout",
     "output_type": "stream",
     "text": [
      "[[157  58  17]\n",
      " [  0   2   0]\n",
      " [116  14  33]]\n",
      "0.1887938793879388\n",
      "[[122  28  45]\n",
      " [ 74  25   0]\n",
      " [ 78  21   4]]\n",
      "[[193  61  33]\n",
      " [ 38  12   0]\n",
      " [ 42   2  16]]\n",
      "[[258  73  49]\n",
      " [  9   1   0]\n",
      " [  6   0   1]]\n",
      "[[259  69  50]\n",
      " [  8   5   0]\n",
      " [  6   0   0]]\n"
     ]
    },
    {
     "name": "stderr",
     "output_type": "stream",
     "text": [
      "\u001b[32m[I 2020-11-12 14:29:37,724]\u001b[0m Trial 94 finished with value: 0.19809064521598624 and parameters: {'n_estimators': 356, 'max_depth': 149.57568461088374}. Best is trial 71 with value: 0.20257981588764054.\u001b[0m\n"
     ]
    },
    {
     "name": "stdout",
     "output_type": "stream",
     "text": [
      "[[163  59  19]\n",
      " [  0   2   0]\n",
      " [110  13  31]]\n",
      "0.19809064521598624\n",
      "[[121  28  44]\n",
      " [ 76  25   0]\n",
      " [ 77  21   5]]\n",
      "[[193  61  33]\n",
      " [ 38  12   0]\n",
      " [ 42   2  16]]\n",
      "[[257  73  49]\n",
      " [ 10   1   0]\n",
      " [  6   0   1]]\n",
      "[[259  69  50]\n",
      " [  8   5   0]\n",
      " [  6   0   0]]\n"
     ]
    },
    {
     "name": "stderr",
     "output_type": "stream",
     "text": [
      "\u001b[32m[I 2020-11-12 14:29:51,563]\u001b[0m Trial 95 finished with value: 0.1997606440457104 and parameters: {'n_estimators': 400, 'max_depth': 90.92898035096499}. Best is trial 71 with value: 0.20257981588764054.\u001b[0m\n"
     ]
    },
    {
     "name": "stdout",
     "output_type": "stream",
     "text": [
      "[[164  58  18]\n",
      " [  0   3   0]\n",
      " [109  13  32]]\n",
      "0.1997606440457104\n",
      "[[122  28  44]\n",
      " [ 74  25   0]\n",
      " [ 78  21   5]]\n",
      "[[194  61  33]\n",
      " [ 37  12   0]\n",
      " [ 42   2  16]]\n",
      "[[257  73  49]\n",
      " [ 10   1   0]\n",
      " [  6   0   1]]\n",
      "[[259  69  50]\n",
      " [  8   5   0]\n",
      " [  6   0   0]]\n"
     ]
    },
    {
     "name": "stderr",
     "output_type": "stream",
     "text": [
      "\u001b[32m[I 2020-11-12 14:30:04,572]\u001b[0m Trial 96 finished with value: 0.19981175543759128 and parameters: {'n_estimators': 382, 'max_depth': 59.71226331565583}. Best is trial 71 with value: 0.20257981588764054.\u001b[0m\n"
     ]
    },
    {
     "name": "stdout",
     "output_type": "stream",
     "text": [
      "[[162  58  18]\n",
      " [  0   3   0]\n",
      " [111  13  32]]\n",
      "0.19981175543759128\n",
      "[[120  28  44]\n",
      " [ 75  25   0]\n",
      " [ 79  21   5]]\n",
      "[[194  61  33]\n",
      " [ 37  12   0]\n",
      " [ 42   2  16]]\n",
      "[[258  73  49]\n",
      " [  9   1   0]\n",
      " [  6   0   1]]\n",
      "[[259  69  50]\n",
      " [  8   5   0]\n",
      " [  6   0   0]]\n"
     ]
    },
    {
     "name": "stderr",
     "output_type": "stream",
     "text": [
      "\u001b[32m[I 2020-11-12 14:30:17,382]\u001b[0m Trial 97 finished with value: 0.20083058741669638 and parameters: {'n_estimators': 369, 'max_depth': 114.67005356222607}. Best is trial 71 with value: 0.20257981588764054.\u001b[0m\n"
     ]
    },
    {
     "name": "stdout",
     "output_type": "stream",
     "text": [
      "[[162  58  18]\n",
      " [  0   3   0]\n",
      " [111  13  32]]\n",
      "0.20083058741669638\n",
      "[[121  28  44]\n",
      " [ 76  25   0]\n",
      " [ 77  21   5]]\n",
      "[[193  61  33]\n",
      " [ 38  12   0]\n",
      " [ 42   2  16]]\n",
      "[[257  73  49]\n",
      " [ 10   1   0]\n",
      " [  6   0   1]]\n",
      "[[259  70  50]\n",
      " [  8   4   0]\n",
      " [  6   0   0]]\n"
     ]
    },
    {
     "name": "stderr",
     "output_type": "stream",
     "text": [
      "\u001b[32m[I 2020-11-12 14:30:31,470]\u001b[0m Trial 98 finished with value: 0.19129131974999436 and parameters: {'n_estimators': 417, 'max_depth': 182.173693407529}. Best is trial 71 with value: 0.20257981588764054.\u001b[0m\n"
     ]
    },
    {
     "name": "stdout",
     "output_type": "stream",
     "text": [
      "[[163  59  17]\n",
      " [  0   2   0]\n",
      " [110  13  33]]\n",
      "0.19129131974999436\n",
      "[[122  28  45]\n",
      " [ 73  25   0]\n",
      " [ 79  21   4]]\n",
      "[[192  61  33]\n",
      " [ 38  12   0]\n",
      " [ 43   2  16]]\n",
      "[[256  73  49]\n",
      " [ 11   1   0]\n",
      " [  6   0   1]]\n",
      "[[259  69  50]\n",
      " [  8   5   0]\n",
      " [  6   0   0]]\n"
     ]
    },
    {
     "name": "stderr",
     "output_type": "stream",
     "text": [
      "\u001b[32m[I 2020-11-12 14:30:42,149]\u001b[0m Trial 99 finished with value: 0.19588550694743928 and parameters: {'n_estimators': 318, 'max_depth': 113.16735366504209}. Best is trial 71 with value: 0.20257981588764054.\u001b[0m\n"
     ]
    },
    {
     "name": "stdout",
     "output_type": "stream",
     "text": [
      "[[163  58  18]\n",
      " [  0   2   0]\n",
      " [110  14  32]]\n",
      "0.19588550694743928\n"
     ]
    }
   ],
   "source": [
    "from sklearn.metrics import make_scorer\n",
    "def metric_precision_rf(y_true, y_pred):\n",
    "    matrix = confusion_matrix(y_pred, y_true)\n",
    "    if (np.sum(matrix[1]) + np.sum(matrix[2])) == 0:\n",
    "      precision = 0\n",
    "    elif (np.sum(matrix[1]) + np.sum(matrix[2])) == 1:\n",
    "      precision = 0.0001\n",
    "    else:\n",
    "      precision = (matrix[1][1] + matrix[2][2]) / (np.sum(matrix[1]) + np.sum(matrix[2]))\n",
    "    print(matrix)\n",
    "    return precision\n",
    "\n",
    "def objective(trial):\n",
    "    n_estimators = trial.suggest_int('n_estimators', 2, 500)\n",
    "    max_depth = int(trial.suggest_loguniform('max_depth', 1, 200))\n",
    "    \n",
    "    rf_optuna_model = sklearn.ensemble.RandomForestClassifier(n_estimators=n_estimators, \n",
    "                                                              max_depth=max_depth,\n",
    "                                                              random_state=777,\n",
    "                                                              n_jobs=-1)\n",
    "    \n",
    "    score = sklearn.model_selection.cross_validate(rf_optuna_model, \n",
    "                                                   x_train_val, \n",
    "                                                   y_train_val, \n",
    "                                                   cv=5,\n",
    "                                                   scoring=make_scorer(metric_precision_rf))\n",
    "    \n",
    "    print(np.mean(score['test_score']))\n",
    "    return np.mean(score['test_score'])\n",
    "\n",
    "study = optuna.create_study(direction='maximize')\n",
    "\n",
    "study.optimize(objective, n_trials=100)\n",
    "\n",
    "trial = study.best_trial"
   ]
  },
  {
   "cell_type": "code",
   "execution_count": null,
   "metadata": {
    "colab": {
     "base_uri": "https://localhost:8080/",
     "height": 1000
    },
    "executionInfo": {
     "elapsed": 3906,
     "status": "ok",
     "timestamp": 1605191509661,
     "user": {
      "displayName": "照屋雄大",
      "photoUrl": "",
      "userId": "10960088537317315210"
     },
     "user_tz": -540
    },
    "id": "AdUQyM4srDB6",
    "outputId": "8adfb9ed-464e-4156-db13-ece8a7ba4488"
   },
   "outputs": [
    {
     "name": "stdout",
     "output_type": "stream",
     "text": [
      "{'n_estimators': 372, 'max_depth': 155.3397441414988}\n",
      "-----my_precision-----\n",
      "[[165  35  14]\n",
      " [  2   0   1]\n",
      " [ 17   5   2]]\n",
      "my_precision: 0.07407407407407407\n",
      "----------------------\n",
      "----------------------\n",
      "trade_count: 1\n",
      "trend_flag: 1.0\n",
      "====> loss_price: 7120.0 log_rerutn -5.129329438755057\n",
      "====> total_return_price: -7120.0 total_log_rerutn -5.129329438755057\n",
      "----------------------\n",
      "----------------------\n",
      "trade_count: 2\n",
      "trend_flag: 1.0\n",
      "====> loss_price: 7130.0 log_rerutn -5.129329438755057\n",
      "====> total_return_price: -14250.0 total_log_rerutn -10.258658877510115\n",
      "----------------------\n",
      "----------------------\n",
      "trade_count: 3\n",
      "trend_flag: 1.0\n",
      "====> loss_price: 7215.000000000001 log_rerutn -5.129329438755057\n",
      "====> total_return_price: -21465.0 total_log_rerutn -15.387988316265172\n",
      "----------------------\n",
      "----------------------\n",
      "trade_count: 4\n",
      "trend_flag: 2.0\n",
      "====> return_price: 7030.0 log_rerutn 4.879016416943205\n",
      "====> total_return_price: -14435.0 total_log_rerutn -10.508971899321967\n",
      "----------------------\n",
      "----------------------\n",
      "trade_count: 5\n",
      "trend_flag: 2.0\n",
      "====> return_price: 7200.0 log_rerutn 4.879016416943205\n",
      "====> total_return_price: -7235.0 total_log_rerutn -5.629955482378762\n",
      "----------------------\n",
      "----------------------\n",
      "trade_count: 6\n",
      "trend_flag: 2.0\n",
      "====> return_price: 7095.0 log_rerutn 4.879016416943205\n",
      "====> total_return_price: -140.0 total_log_rerutn -0.7509390654355563\n",
      "----------------------\n",
      "----------------------\n",
      "trade_count: 7\n",
      "trend_flag: 2.0\n",
      "====> return_price: 7060.000000000001 log_rerutn 4.879016416943205\n",
      "====> total_return_price: 6920.000000000001 total_log_rerutn 4.128077351507649\n",
      "----------------------\n",
      "----------------------\n",
      "trade_count: 8\n",
      "trend_flag: 2.0\n",
      "====> return_price: 6955.0 log_rerutn 4.879016416943205\n",
      "====> total_return_price: 13875.0 total_log_rerutn 9.007093768450854\n",
      "----------------------\n",
      "----------------------\n",
      "trade_count: 9\n",
      "trend_flag: 2.0\n",
      "====> return_price: 6950.0 log_rerutn 4.879016416943205\n",
      "====> total_return_price: 20825.0 total_log_rerutn 13.88611018539406\n",
      "----------------------\n",
      "----------------------\n",
      "trade_count: 10\n",
      "trend_flag: 2.0\n",
      "====> return_price: 6880.0 log_rerutn 4.879016416943205\n",
      "====> total_return_price: 27705.0 total_log_rerutn 18.765126602337265\n",
      "----------------------\n",
      "----------------------\n",
      "trade_count: 11\n",
      "trend_flag: 2.0\n",
      "====> return_price: 6835.000000000001 log_rerutn 4.879016416943205\n",
      "====> total_return_price: 34540.0 total_log_rerutn 23.64414301928047\n",
      "----------------------\n",
      "----------------------\n",
      "trade_count: 12\n",
      "trend_flag: 2.0\n",
      "====> return_price: 6760.000000000001 log_rerutn 4.879016416943205\n",
      "====> total_return_price: 41300.0 total_log_rerutn 28.523159436223676\n",
      "----------------------\n",
      "----------------------\n",
      "trade_count: 13\n",
      "trend_flag: 2.0\n",
      "====> return_price: 6745.0 log_rerutn 4.879016416943205\n",
      "====> total_return_price: 48045.0 total_log_rerutn 33.40217585316688\n",
      "----------------------\n",
      "----------------------\n",
      "trade_count: 14\n",
      "trend_flag: 2.0\n",
      "====> return_price: 6870.0 log_rerutn 4.879016416943205\n",
      "====> total_return_price: 54915.0 total_log_rerutn 38.28119227011008\n",
      "----------------------\n",
      "----------------------\n",
      "trade_count: 15\n",
      "trend_flag: 2.0\n",
      "====> return_price: 6870.0 log_rerutn 4.879016416943205\n",
      "====> total_return_price: 61785.0 total_log_rerutn 43.160208687053284\n",
      "----------------------\n",
      "----------------------\n",
      "trade_count: 16\n",
      "trend_flag: 2.0\n",
      "====> return_price: 6845.0 log_rerutn 4.879016416943205\n",
      "====> total_return_price: 68630.0 total_log_rerutn 48.039225103996486\n",
      "----------------------\n",
      "----------------------\n",
      "trade_count: 17\n",
      "trend_flag: 2.0\n",
      "====> return_price: 6890.000000000001 log_rerutn 4.879016416943205\n",
      "====> total_return_price: 75520.0 total_log_rerutn 52.91824152093969\n",
      "----------------------\n",
      "----------------------\n",
      "trade_count: 18\n",
      "trend_flag: 2.0\n",
      "====> return_price: 7030.0 log_rerutn 4.879016416943205\n",
      "====> total_return_price: 82550.0 total_log_rerutn 57.79725793788289\n",
      "----------------------\n",
      "----------------------\n",
      "trade_count: 19\n",
      "trend_flag: 2.0\n",
      "====> return_price: 6880.0 log_rerutn 4.879016416943205\n",
      "====> total_return_price: 89430.0 total_log_rerutn 62.67627435482609\n",
      "----------------------\n",
      "----------------------\n",
      "trade_count: 20\n",
      "trend_flag: 2.0\n",
      "====> return_price: 7535.000000000001 log_rerutn 4.879016416943205\n",
      "====> total_return_price: 96965.0 total_log_rerutn 67.5552907717693\n",
      "----------------------\n",
      "----------------------\n",
      "trade_count: 21\n",
      "trend_flag: 2.0\n",
      "====> return_price: 7485.000000000001 log_rerutn 4.879016416943205\n",
      "====> total_return_price: 104450.0 total_log_rerutn 72.4343071887125\n",
      "----------------------\n",
      "----------------------\n",
      "trade_count: 22\n",
      "trend_flag: 2.0\n",
      "====> return_price: 7440.000000000001 log_rerutn 4.879016416943205\n",
      "====> total_return_price: 111890.0 total_log_rerutn 77.3133236056557\n",
      "----------------------\n",
      "----------------------\n",
      "trade_count: 23\n",
      "trend_flag: 2.0\n",
      "====> return_price: 7460.000000000001 log_rerutn 4.879016416943205\n",
      "====> total_return_price: 119350.0 total_log_rerutn 82.1923400225989\n",
      "----------------------\n",
      "----------------------\n",
      "trade_count: 24\n",
      "trend_flag: 2.0\n",
      "====> return_price: 7345.0 log_rerutn 4.879016416943205\n",
      "====> total_return_price: 126695.0 total_log_rerutn 87.0713564395421\n",
      "----------------------\n",
      "----------------------\n",
      "trade_count: 25\n",
      "trend_flag: 2.0\n",
      "====> return_price: 7395.0 log_rerutn 4.879016416943205\n",
      "====> total_return_price: 134090.0 total_log_rerutn 91.9503728564853\n",
      "----------------------\n",
      "----------------------\n",
      "trade_count: 26\n",
      "trend_flag: 2.0\n",
      "====> return_price: 7375.0 log_rerutn 4.879016416943205\n",
      "====> total_return_price: 141465.0 total_log_rerutn 96.8293892734285\n",
      "----------------------\n",
      "----------------------\n",
      "trade_count: 27\n",
      "trend_flag: 2.0\n",
      "====> return_price: 7300.0 log_rerutn 4.879016416943205\n",
      "====> total_return_price: 148765.0 total_log_rerutn 101.7084056903717\n",
      "----------------------\n"
     ]
    },
    {
     "data": {
      "image/png": "[encoded data removed]",
      "text/plain": [
       "<Figure size 1224x504 with 1 Axes>"
      ]
     },
     "metadata": {
      "needs_background": "light",
      "tags": []
     },
     "output_type": "display_data"
    }
   ],
   "source": [
    "print(study.best_params)\n",
    "rf_best_model = sklearn.ensemble.RandomForestClassifier(**study.best_params, random_state=777)\n",
    "rf_best_model.fit(x_train, y_train)\n",
    "y_pred = rf_best_model.predict(x_test)\n",
    "\n",
    "feature_importance_df = pd.DataFrame({'feature': x_test.columns, 'importance': rf_best_model.feature_importances_})\n",
    "feature_importance_df = feature_importance_df.sort_values('importance', ascending=False)\n",
    "plt.figure(figsize=(17, 7))\n",
    "sns.barplot(y=feature_importance_df['importance'].iloc[:10], x=feature_importance_df['feature'].iloc[:10])\n",
    "\n",
    "backtest(stock_data_9613, y_pred, y_test)"
   ]
  },
  {
   "cell_type": "markdown",
   "metadata": {
    "id": "cYXmX5rubWPT"
   },
   "source": [
    "## SGD"
   ]
  },
  {
   "cell_type": "code",
   "execution_count": null,
   "metadata": {
    "colab": {
     "base_uri": "https://localhost:8080/",
     "output_embedded_package_id": "1NxP-Wvy81wSfrmoZUIl6LoLbR7px0mh7"
    },
    "executionInfo": {
     "elapsed": 230832,
     "status": "ok",
     "timestamp": 1605059475293,
     "user": {
      "displayName": "照屋雄大",
      "photoUrl": "",
      "userId": "10960088537317315210"
     },
     "user_tz": -540
    },
    "id": "q_6sELI8a7uU",
    "outputId": "7acd32e2-d4db-4cd4-c85b-3fa4c32b6e7e"
   },
   "outputs": [
    {
     "data": {
      "text/plain": [
       "Output hidden; open in https://colab.research.google.com to view."
      ]
     },
     "metadata": {},
     "output_type": "display_data"
    }
   ],
   "source": [
    "from sklearn.linear_model import SGDClassifier\n",
    "from sklearn.preprocessing import StandardScaler\n",
    "from sklearn.pipeline import make_pipeline\n",
    "\n",
    "from sklearn.metrics import make_scorer\n",
    "def metric_precision_sgd(y_true, y_pred):\n",
    "    matrix = confusion_matrix(y_pred, y_true)\n",
    "    if (np.sum(matrix[1]) + np.sum(matrix[2])) == 0:\n",
    "      precision = 0\n",
    "    elif (np.sum(matrix[1]) + np.sum(matrix[2])) == 1:\n",
    "      precision = 0.0001\n",
    "    else:\n",
    "      precision = (matrix[1][1] + matrix[2][2]) / (np.sum(matrix[1]) + np.sum(matrix[2]))\n",
    "#      precision = ((matrix[1][1] + matrix[2][2]) - (matrix[1][2] + matrix[2][1])) / (np.sum(matrix[1]) + np.sum(matrix[2]))\n",
    "#      if precision < 0:\n",
    "#        precision = 0\n",
    "    print('***************')\n",
    "    print(matrix)\n",
    "    print(precision)\n",
    "    print('***************')\n",
    "    return precision\n",
    "\n",
    "def objective(trial):\n",
    "    params = {'penalty': 'elasticnet', \n",
    "              'loss': 'log',\n",
    "              'n_iter_no_change': 100,\n",
    "              'early_stopping': True,\n",
    "              'n_jobs': -1,\n",
    "              'validation_fraction': 0.3,\n",
    "              'random_state': 1234,\n",
    "              'alpha': trial.suggest_float(\"alpha\", 0.0001, 0.1),\n",
    "              'l1_ratio': trial.suggest_float(\"l1_ratio\", 0.1, 1.0, log=True)}\n",
    "\n",
    "    sgd_optuna_model = make_pipeline(StandardScaler(),\n",
    "                                     SGDClassifier(**params))\n",
    "\n",
    "    score = sklearn.model_selection.cross_validate(sgd_optuna_model, \n",
    "                                                   x_train_val, \n",
    "                                                   y_train_val, \n",
    "                                                   cv=5,\n",
    "                                                   scoring=make_scorer(metric_precision_sgd))\n",
    "    \n",
    "    print('=========>', np.mean(score['test_score']))\n",
    "    return np.mean(score['test_score'])\n",
    "study = optuna.create_study(direction='maximize')\n",
    "\n",
    "study.optimize(objective, n_trials=100)\n",
    "\n",
    "trial = study.best_trial"
   ]
  },
  {
   "cell_type": "code",
   "execution_count": null,
   "metadata": {
    "colab": {
     "base_uri": "https://localhost:8080/"
    },
    "executionInfo": {
     "elapsed": 1004,
     "status": "ok",
     "timestamp": 1605059660515,
     "user": {
      "displayName": "照屋雄大",
      "photoUrl": "",
      "userId": "10960088537317315210"
     },
     "user_tz": -540
    },
    "id": "apBihzG8cMyy",
    "outputId": "9cda84aa-1adb-496c-9fc0-dcf82f3d7cb1"
   },
   "outputs": [
    {
     "name": "stdout",
     "output_type": "stream",
     "text": [
      "{'l1_ratio': 0.127246688063369, 'alpha': 0.003729215194375882, 'tol': 0.004855936354525311}\n",
      "-----my_precision-----\n",
      "[[184  40  17]\n",
      " [  0   0   0]\n",
      " [  0   0   0]]\n",
      "my_precision: 0\n",
      "----------------------\n"
     ]
    }
   ],
   "source": [
    "print(study.best_params)\n",
    "\n",
    "params = {'penalty': 'elasticnet', \n",
    "          'loss': 'log',\n",
    "          'n_iter_no_change': 50,\n",
    "          'early_stopping': True,\n",
    "          'n_jobs': -1,\n",
    "          'validation_fraction': 0.3,\n",
    "          'random_state': 1234}\n",
    "params.update(dict(trial.params.items()))\n",
    "sgd_best_model = make_pipeline(StandardScaler(), SGDClassifier(**params))\n",
    "sgd_best_model.fit(x_train_val, y_train_val)\n",
    "y_pred = sgd_best_model.predict(x_test)\n",
    "backtest(stock_data_9613, y_pred, y_test)"
   ]
  },
  {
   "cell_type": "code",
   "execution_count": null,
   "metadata": {
    "id": "kmneqlZPltL4"
   },
   "outputs": [],
   "source": []
  }
 ],
 "metadata": {
  "colab": {
   "collapsed_sections": [],
   "name": "predict_stock_data.ipynb",
   "provenance": []
  },
  "kernelspec": {
   "display_name": "Python 3",
   "language": "python",
   "name": "python3"
  },
  "language_info": {
   "codemirror_mode": {
    "name": "ipython",
    "version": 3
   },
   "file_extension": ".py",
   "mimetype": "text/x-python",
   "name": "python",
   "nbconvert_exporter": "python",
   "pygments_lexer": "ipython3",
   "version": "3.7.4"
  }
 },
 "nbformat": 4,
 "nbformat_minor": 1
}
